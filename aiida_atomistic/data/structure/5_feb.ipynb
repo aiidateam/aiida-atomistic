{
 "cells": [
  {
   "cell_type": "code",
   "execution_count": 1,
   "metadata": {},
   "outputs": [
    {
     "name": "stdout",
     "output_type": "stream",
     "text": [
      "\u001b[93m\u001b[1mWarning\u001b[0m: \u001b[22mYou are currently using a post release development version of AiiDA: 2.4.0.post0\u001b[0m\n",
      "\u001b[93m\u001b[1mWarning\u001b[0m: \u001b[22mBe aware that this is not recommended for production and is not officially supported.\u001b[0m\n",
      "\u001b[93m\u001b[1mWarning\u001b[0m: \u001b[22mDatabases used with this version may not be compatible with future releases of AiiDA\u001b[0m\n",
      "\u001b[93m\u001b[1mWarning\u001b[0m: \u001b[22mas you might not be able to automatically migrate your data.\n",
      "\u001b[0m\n"
     ]
    },
    {
     "data": {
      "text/plain": [
       "Profile<uuid='827a33dde1bc4d498af8e022f9e9dece' name='mikibonacci'>"
      ]
     },
     "execution_count": 1,
     "metadata": {},
     "output_type": "execute_result"
    }
   ],
   "source": [
    "from aiida import orm, load_profile\n",
    "load_profile()"
   ]
  },
  {
   "cell_type": "code",
   "execution_count": 2,
   "metadata": {},
   "outputs": [],
   "source": [
    "from aiida_atomistic.data.structure.structure import StructureData"
   ]
  },
  {
   "cell_type": "code",
   "execution_count": 3,
   "metadata": {},
   "outputs": [],
   "source": [
    "properties = {\n",
    "    \"cell\":{\"value\":((1.0,0,0),(0,1,0),(0,0,1))},\n",
    "    \"pbc\":{\"value\":[True,False,True]},\n",
    "    \"positions\":{\n",
    "        \"value\":[[1,1,1],[2,3,3],[3,4,5],[1,2,3]],\n",
    "        \"kind_tags\":[\"He1\",\"\",\"\",\"He1\"]\n",
    "        },\n",
    "    \"symbols\":{\"value\":[\"He\",\"Cu\",\"He\",\"He\"]},\n",
    "    \"mass\":{\"value\":[1.551,9,1.5512,2],},\n",
    "    \"charge\":{\"value\":[1,0,1,0]}\n",
    "    }"
   ]
  },
  {
   "cell_type": "code",
   "execution_count": 4,
   "metadata": {},
   "outputs": [],
   "source": [
    "structure = StructureData(properties = properties)"
   ]
  },
  {
   "cell_type": "code",
   "execution_count": 5,
   "metadata": {},
   "outputs": [
    {
     "data": {
      "text/plain": [
       "Cell(parent=<StructureData: uuid: 109f80df-7dcf-4228-9e15-1088abff849a (unstored)>, value=((1.0, 0.0, 0.0), (0.0, 1.0, 0.0), (0.0, 0.0, 1.0)), domain='global')"
      ]
     },
     "execution_count": 5,
     "metadata": {},
     "output_type": "execute_result"
    }
   ],
   "source": [
    "structure.properties.cell"
   ]
  },
  {
   "cell_type": "code",
   "execution_count": 6,
   "metadata": {},
   "outputs": [
    {
     "data": {
      "text/plain": [
       "['pbc', 'cell', 'positions', 'symbols', 'mass', 'charge', 'custom']"
      ]
     },
     "execution_count": 6,
     "metadata": {},
     "output_type": "execute_result"
    }
   ],
   "source": [
    "structure.properties.get_valid_properties()"
   ]
  },
  {
   "cell_type": "code",
   "execution_count": 7,
   "metadata": {},
   "outputs": [
    {
     "data": {
      "text/plain": [
       "['charge', 'symbols', 'pbc', 'cell', 'positions', 'mass']"
      ]
     },
     "execution_count": 7,
     "metadata": {},
     "output_type": "execute_result"
    }
   ],
   "source": [
    "structure.properties.get_defined_properties()"
   ]
  },
  {
   "cell_type": "code",
   "execution_count": 8,
   "metadata": {},
   "outputs": [],
   "source": [
    "#structure.store()"
   ]
  },
  {
   "cell_type": "code",
   "execution_count": 9,
   "metadata": {},
   "outputs": [],
   "source": [
    "#s = orm.load_node(structure.pk)"
   ]
  },
  {
   "cell_type": "code",
   "execution_count": 10,
   "metadata": {},
   "outputs": [],
   "source": [
    "#s.properties"
   ]
  },
  {
   "cell_type": "code",
   "execution_count": 11,
   "metadata": {},
   "outputs": [],
   "source": [
    "#s.properties.positions"
   ]
  },
  {
   "cell_type": "code",
   "execution_count": 12,
   "metadata": {},
   "outputs": [
    {
     "data": {
      "text/plain": [
       "['pbc', 'cell', 'positions', 'symbols', 'mass', 'charge', 'custom']"
      ]
     },
     "execution_count": 12,
     "metadata": {},
     "output_type": "execute_result"
    }
   ],
   "source": [
    "list(structure.properties.get_valid_properties())"
   ]
  },
  {
   "cell_type": "code",
   "execution_count": 13,
   "metadata": {},
   "outputs": [
    {
     "data": {
      "text/plain": [
       "4"
      ]
     },
     "execution_count": 13,
     "metadata": {},
     "output_type": "execute_result"
    }
   ],
   "source": [
    "len(structure.properties.positions.value)"
   ]
  },
  {
   "cell_type": "code",
   "execution_count": 14,
   "metadata": {},
   "outputs": [
    {
     "data": {
      "text/plain": [
       "Symbols(parent=<StructureData: uuid: 109f80df-7dcf-4228-9e15-1088abff849a (unstored)>, value=['He', 'Cu', 'He', 'He'], domain='per-site')"
      ]
     },
     "execution_count": 14,
     "metadata": {},
     "output_type": "execute_result"
    }
   ],
   "source": [
    "structure.properties.symbols "
   ]
  },
  {
   "cell_type": "code",
   "execution_count": 15,
   "metadata": {},
   "outputs": [
    {
     "data": {
      "text/plain": [
       "{'cell': {'value': ((1.0, 0, 0), (0, 1, 0), (0, 0, 1))},\n",
       " 'pbc': {'value': [True, False, True]},\n",
       " 'positions': {'value': [[1, 1, 1], [2, 3, 3], [3, 4, 5], [1, 2, 3]],\n",
       "  'kind_tags': ['He1', '', '', 'He1']},\n",
       " 'symbols': {'value': ['He', 'Cu', 'He', 'He']},\n",
       " 'mass': {'value': [1.551, 9, 1.5512, 2]},\n",
       " 'charge': {'value': [1, 0, 1, 0]}}"
      ]
     },
     "execution_count": 15,
     "metadata": {},
     "output_type": "execute_result"
    }
   ],
   "source": [
    "structure.base.attributes.get('_property_attributes')"
   ]
  },
  {
   "cell_type": "code",
   "execution_count": 16,
   "metadata": {},
   "outputs": [
    {
     "data": {
      "text/plain": [
       "{'cell': {'value': ((1.0, 0, 0), (0, 1, 0), (0, 0, 1))},\n",
       " 'pbc': {'value': [True, False, True]},\n",
       " 'positions': {'value': [[1, 1, 1], [2, 3, 3], [3, 4, 5], [1, 2, 3]],\n",
       "  'kind_tags': ['He1', '', '', 'He1']},\n",
       " 'symbols': {'value': ['He', 'Cu', 'He', 'He']},\n",
       " 'mass': {'value': [1.551, 9, 1.5512, 2]},\n",
       " 'charge': {'value': [1, 0, 1, 0]}}"
      ]
     },
     "execution_count": 16,
     "metadata": {},
     "output_type": "execute_result"
    }
   ],
   "source": [
    "structure.to_dict()"
   ]
  },
  {
   "cell_type": "code",
   "execution_count": 17,
   "metadata": {},
   "outputs": [
    {
     "data": {
      "text/plain": [
       "[1.551, 9.0, 1.5512, 2.0]"
      ]
     },
     "execution_count": 17,
     "metadata": {},
     "output_type": "execute_result"
    }
   ],
   "source": [
    "structure.properties.mass.value"
   ]
  },
  {
   "cell_type": "code",
   "execution_count": 18,
   "metadata": {},
   "outputs": [
    {
     "data": {
      "text/plain": [
       "0.001"
      ]
     },
     "execution_count": 18,
     "metadata": {},
     "output_type": "execute_result"
    }
   ],
   "source": [
    "structure.properties.mass.default_kind_threshold"
   ]
  },
  {
   "cell_type": "code",
   "execution_count": 19,
   "metadata": {},
   "outputs": [
    {
     "data": {
      "text/plain": [
       "(array([ 0, 74,  0,  4]),\n",
       " [1.601, 9.001000000000007, 1.601, 2.0010000000000003])"
      ]
     },
     "execution_count": 19,
     "metadata": {},
     "output_type": "execute_result"
    }
   ],
   "source": [
    "structure.properties.mass.to_kinds(thr = 0.1, kind_names=False)"
   ]
  },
  {
   "cell_type": "code",
   "execution_count": 20,
   "metadata": {},
   "outputs": [
    {
     "data": {
      "text/plain": [
       "['He', 'Cu', 'He', 'He']"
      ]
     },
     "execution_count": 20,
     "metadata": {},
     "output_type": "execute_result"
    }
   ],
   "source": [
    "structure.properties.symbols.value"
   ]
  },
  {
   "cell_type": "code",
   "execution_count": 22,
   "metadata": {},
   "outputs": [
    {
     "name": "stdout",
     "output_type": "stream",
     "text": [
      "He\n",
      "Cu\n",
      "He\n",
      "He\n"
     ]
    },
    {
     "data": {
      "text/plain": [
       "([2, 1, 2, 3],\n",
       " ['He2', 'Cu1', 'He2', 'He3'],\n",
       " {'charge': [1.1250000000000002, 0.225, 1.1250000000000002, 0.225],\n",
       "  'mass': [1.5514999999999999,\n",
       "   9.000499999999178,\n",
       "   1.5514999999999999,\n",
       "   2.0004999999999504]})"
      ]
     },
     "execution_count": 22,
     "metadata": {},
     "output_type": "execute_result"
    }
   ],
   "source": [
    "get_kinds(structure)"
   ]
  },
  {
   "cell_type": "code",
   "execution_count": null,
   "metadata": {},
   "outputs": [],
   "source": []
  }
 ],
 "metadata": {
  "kernelspec": {
   "display_name": "aiida-muonic",
   "language": "python",
   "name": "python3"
  },
  "language_info": {
   "codemirror_mode": {
    "name": "ipython",
    "version": 3
   },
   "file_extension": ".py",
   "mimetype": "text/x-python",
   "name": "python",
   "nbconvert_exporter": "python",
   "pygments_lexer": "ipython3",
   "version": "3.10.11"
  }
 },
 "nbformat": 4,
 "nbformat_minor": 2
}
