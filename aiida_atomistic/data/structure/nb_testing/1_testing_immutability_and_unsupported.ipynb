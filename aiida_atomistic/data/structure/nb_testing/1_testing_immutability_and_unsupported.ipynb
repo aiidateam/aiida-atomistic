{
 "cells": [
  {
   "cell_type": "code",
   "execution_count": 2,
   "metadata": {},
   "outputs": [
    {
     "name": "stdout",
     "output_type": "stream",
     "text": [
      "\u001b[93m\u001b[1mWarning\u001b[0m: \u001b[22mYou are currently using a post release development version of AiiDA: 2.4.0.post0\u001b[0m\n",
      "\u001b[93m\u001b[1mWarning\u001b[0m: \u001b[22mBe aware that this is not recommended for production and is not officially supported.\u001b[0m\n",
      "\u001b[93m\u001b[1mWarning\u001b[0m: \u001b[22mDatabases used with this version may not be compatible with future releases of AiiDA\u001b[0m\n",
      "\u001b[93m\u001b[1mWarning\u001b[0m: \u001b[22mas you might not be able to automatically migrate your data.\n",
      "\u001b[0m\n"
     ]
    },
    {
     "data": {
      "text/plain": [
       "Profile<uuid='827a33dde1bc4d498af8e022f9e9dece' name='mikibonacci'>"
      ]
     },
     "execution_count": 2,
     "metadata": {},
     "output_type": "execute_result"
    }
   ],
   "source": [
    "from aiida import load_profile, orm\n",
    "load_profile()"
   ]
  },
  {
   "cell_type": "code",
   "execution_count": 3,
   "metadata": {},
   "outputs": [],
   "source": [
    "from aiida_atomistic.data.structure.structure import StructureData"
   ]
  },
  {
   "cell_type": "markdown",
   "metadata": {},
   "source": [
    "### Initialization and immutability\n",
    "\n",
    "#### Just the crystal structure:"
   ]
  },
  {
   "cell_type": "code",
   "execution_count": 4,
   "metadata": {},
   "outputs": [
    {
     "name": "stdout",
     "output_type": "stream",
     "text": [
      "[[3.5, 0.0, 0.0], [0.0, 3.5, 0.0], [0.0, 0.0, 3.5]]\n",
      "[<Site: kind name 'Li' @ 0.0,0.0,0.0>, <Site: kind name 'Li' @ 1.5,1.5,1.5>]\n",
      "[<Kind: name 'Li', symbol 'Li'>]\n",
      "(True, True, True)\n"
     ]
    }
   ],
   "source": [
    "from ase import Atoms\n",
    "\n",
    "unit_cell = [[3.5, 0.0, 0.0], [0.0, 3.5, 0.0], [0.0, 0.0, 3.5]]\n",
    "\n",
    "atoms = Atoms('LiLi', [[0.0, 0.0, 0.0],[1.5, 1.5, 1.5]], cell = [1,1,1])\n",
    "atoms.set_cell(unit_cell, scale_atoms=False)\n",
    "atoms.set_pbc([True,True,True])\n",
    "\n",
    "structure = StructureData(ase=atoms)\n",
    "\n",
    "print(structure.cell)\n",
    "print(structure.sites)\n",
    "print(structure.kinds)   # <== backward-compatibility\n",
    "print(structure.pbc)     # <== backward-compatibility"
   ]
  },
  {
   "cell_type": "markdown",
   "metadata": {},
   "source": [
    "#### Adding also properties:"
   ]
  },
  {
   "cell_type": "code",
   "execution_count": 5,
   "metadata": {},
   "outputs": [
    {
     "name": "stdout",
     "output_type": "stream",
     "text": [
      "[[3.5, 0.0, 0.0], [0.0, 3.5, 0.0], [0.0, 0.0, 3.5]]\n",
      "[<Site: kind name 'Li' @ 0.0,0.0,0.0>, <Site: kind name 'Li' @ 1.5,1.5,1.5>]\n",
      "(True, True, True)\n"
     ]
    }
   ],
   "source": [
    "structure = StructureData(\n",
    "        ase=atoms,\n",
    "        properties={\n",
    "                'pbc': {'value':[True,False,True]},\n",
    "                },\n",
    "        )\n",
    "\n",
    "print(structure.cell)\n",
    "print(structure.sites)\n",
    "print(structure.pbc)"
   ]
  },
  {
   "cell_type": "code",
   "execution_count": 6,
   "metadata": {},
   "outputs": [
    {
     "data": {
      "text/plain": [
       "Pbc(parent=<StructureData: uuid: 14a2cce6-05fb-46dc-ac8e-416caa6b6770 (unstored)>, value=[True, False, True])"
      ]
     },
     "execution_count": 6,
     "metadata": {},
     "output_type": "execute_result"
    }
   ],
   "source": [
    "structure.properties.pbc"
   ]
  },
  {
   "cell_type": "markdown",
   "metadata": {},
   "source": [
    "### Immutability"
   ]
  },
  {
   "cell_type": "code",
   "execution_count": 7,
   "metadata": {},
   "outputs": [
    {
     "ename": "TypeError",
     "evalue": "\"Pbc\" is immutable and does not support item assignment",
     "output_type": "error",
     "traceback": [
      "\u001b[0;31m---------------------------------------------------------------------------\u001b[0m",
      "\u001b[0;31mTypeError\u001b[0m                                 Traceback (most recent call last)",
      "Cell \u001b[0;32mIn[7], line 1\u001b[0m\n\u001b[0;32m----> 1\u001b[0m \u001b[43mstructure\u001b[49m\u001b[38;5;241;43m.\u001b[39;49m\u001b[43mproperties\u001b[49m\u001b[38;5;241;43m.\u001b[39;49m\u001b[43mpbc\u001b[49m\u001b[38;5;241;43m.\u001b[39;49m\u001b[43mvalue\u001b[49m\u001b[38;5;241m=\u001b[39m\u001b[38;5;241m5\u001b[39m\n",
      "File \u001b[0;32m~/Envs/aiida-muonic/lib/python3.10/site-packages/pydantic/main.py:359\u001b[0m, in \u001b[0;36mpydantic.main.BaseModel.__setattr__\u001b[0;34m()\u001b[0m\n",
      "\u001b[0;31mTypeError\u001b[0m: \"Pbc\" is immutable and does not support item assignment"
     ]
    }
   ],
   "source": [
    "structure.properties.pbc.value=5"
   ]
  },
  {
   "cell_type": "code",
   "execution_count": 8,
   "metadata": {},
   "outputs": [
    {
     "ename": "AttributeError",
     "evalue": "After the initialization, `properties` is a read-only attribute",
     "output_type": "error",
     "traceback": [
      "\u001b[0;31m---------------------------------------------------------------------------\u001b[0m",
      "\u001b[0;31mAttributeError\u001b[0m                            Traceback (most recent call last)",
      "Cell \u001b[0;32mIn[8], line 1\u001b[0m\n\u001b[0;32m----> 1\u001b[0m \u001b[43mstructure\u001b[49m\u001b[38;5;241;43m.\u001b[39;49m\u001b[43mproperties\u001b[49m \u001b[38;5;241m=\u001b[39m  \u001b[38;5;241m0\u001b[39m\n",
      "File \u001b[0;32m~/Envs/aiida-muonic/codes/aiida-atomistic/aiida_atomistic/data/structure/structure.py:147\u001b[0m, in \u001b[0;36mStructureData.properties\u001b[0;34m(self, value)\u001b[0m\n\u001b[1;32m    145\u001b[0m \u001b[38;5;129m@properties\u001b[39m\u001b[38;5;241m.\u001b[39msetter\n\u001b[1;32m    146\u001b[0m \u001b[38;5;28;01mdef\u001b[39;00m \u001b[38;5;21mproperties\u001b[39m(\u001b[38;5;28mself\u001b[39m,value):\n\u001b[0;32m--> 147\u001b[0m     \u001b[38;5;28;01mraise\u001b[39;00m \u001b[38;5;167;01mAttributeError\u001b[39;00m(\u001b[38;5;124m\"\u001b[39m\u001b[38;5;124mAfter the initialization, `properties` is a read-only attribute\u001b[39m\u001b[38;5;124m\"\u001b[39m)\n",
      "\u001b[0;31mAttributeError\u001b[0m: After the initialization, `properties` is a read-only attribute"
     ]
    }
   ],
   "source": [
    "structure.properties =  0"
   ]
  },
  {
   "cell_type": "code",
   "execution_count": 9,
   "metadata": {},
   "outputs": [
    {
     "ename": "NotImplementedError",
     "evalue": "After the initialization, `properties` and its attributes are read-only!",
     "output_type": "error",
     "traceback": [
      "\u001b[0;31m---------------------------------------------------------------------------\u001b[0m",
      "\u001b[0;31mNotImplementedError\u001b[0m                       Traceback (most recent call last)",
      "Cell \u001b[0;32mIn[9], line 1\u001b[0m\n\u001b[0;32m----> 1\u001b[0m \u001b[43mstructure\u001b[49m\u001b[38;5;241;43m.\u001b[39;49m\u001b[43mproperties\u001b[49m\u001b[38;5;241;43m.\u001b[39;49m\u001b[43mpbc\u001b[49m \u001b[38;5;241m=\u001b[39m \u001b[38;5;241m4\u001b[39m\n",
      "File \u001b[0;32m~/Envs/aiida-muonic/codes/aiida-atomistic/aiida_atomistic/data/structure/property_utils.py:108\u001b[0m, in \u001b[0;36mPropertyMixinMetaclass.__new__.<locals>.<lambda>\u001b[0;34m(self, pname, pvalue)\u001b[0m\n\u001b[1;32m    102\u001b[0m         func_get \u001b[38;5;241m=\u001b[39m \u001b[38;5;28;01mlambda\u001b[39;00m \u001b[38;5;28mself\u001b[39m, type_hint\u001b[38;5;241m=\u001b[39mtype_hint, attr\u001b[38;5;241m=\u001b[39mattr: \u001b[38;5;28mself\u001b[39m\u001b[38;5;241m.\u001b[39m_template_property(type_hint\u001b[38;5;241m=\u001b[39mtype_hint, attr\u001b[38;5;241m=\u001b[39mattr)\n\u001b[1;32m    104\u001b[0m         \u001b[38;5;66;03m# We do not allow to set any property after the creation of the instance: \u001b[39;00m\n\u001b[1;32m    105\u001b[0m         \u001b[38;5;66;03m#===> WE DEACTIVATE THE METHOD, using the `allow_no_calls_decorator`.\u001b[39;00m\n\u001b[1;32m    106\u001b[0m         \u001b[38;5;66;03m# Here below, we leave it there for now, in case it is needed in the future.\u001b[39;00m\n\u001b[1;32m    107\u001b[0m         \u001b[38;5;66;03m# I define also a setter, TOTEST if we stay immutable wrt other ways to change the property:\u001b[39;00m\n\u001b[0;32m--> 108\u001b[0m         func_set \u001b[38;5;241m=\u001b[39m \u001b[38;5;28;01mlambda\u001b[39;00m \u001b[38;5;28mself\u001b[39m, pname\u001b[38;5;241m=\u001b[39m\u001b[38;5;28;01mNone\u001b[39;00m, pvalue\u001b[38;5;241m=\u001b[39m\u001b[38;5;28;01mNone\u001b[39;00m: \u001b[38;5;28;43mself\u001b[39;49m\u001b[38;5;241;43m.\u001b[39;49m\u001b[43m_set_property\u001b[49m\u001b[43m(\u001b[49m\u001b[43mpname\u001b[49m\u001b[43m,\u001b[49m\u001b[43m \u001b[49m\u001b[43mpvalue\u001b[49m\u001b[43m)\u001b[49m\n\u001b[1;32m    109\u001b[0m         \u001b[38;5;28msetattr\u001b[39m(\u001b[38;5;28mcls\u001b[39m, attr, \u001b[38;5;28mproperty\u001b[39m(fget\u001b[38;5;241m=\u001b[39mfunc_get,fset\u001b[38;5;241m=\u001b[39mfunc_set))\n\u001b[1;32m    112\u001b[0m \u001b[38;5;28;01mreturn\u001b[39;00m \u001b[38;5;28mcls\u001b[39m\n",
      "File \u001b[0;32m~/Envs/aiida-muonic/codes/aiida-atomistic/aiida_atomistic/data/structure/property_utils.py:38\u001b[0m, in \u001b[0;36mallow_no_calls_decorator.<locals>.wrapper\u001b[0;34m(*args, **kwargs)\u001b[0m\n\u001b[1;32m     35\u001b[0m \u001b[38;5;28mlocals\u001b[39m \u001b[38;5;241m=\u001b[39m frame\u001b[38;5;241m.\u001b[39mf_back\u001b[38;5;241m.\u001b[39mf_locals\n\u001b[1;32m     37\u001b[0m \u001b[38;5;28;01mif\u001b[39;00m \u001b[38;5;28mlocals\u001b[39m\u001b[38;5;241m.\u001b[39mget(\u001b[38;5;124m'\u001b[39m\u001b[38;5;124mself\u001b[39m\u001b[38;5;124m'\u001b[39m, \u001b[38;5;28;01mNone\u001b[39;00m) \u001b[38;5;129;01mis\u001b[39;00m args[\u001b[38;5;241m0\u001b[39m]:\n\u001b[0;32m---> 38\u001b[0m     \u001b[38;5;28;01mraise\u001b[39;00m \u001b[38;5;167;01mNotImplementedError\u001b[39;00m(\u001b[38;5;124m\"\u001b[39m\u001b[38;5;124mAfter the initialization, `properties` and its attributes are read-only!\u001b[39m\u001b[38;5;124m\"\u001b[39m)\n\u001b[1;32m     39\u001b[0m     \u001b[38;5;28mprint\u001b[39m(\u001b[38;5;124m\"\u001b[39m\u001b[38;5;124mCalled from this class!\u001b[39m\u001b[38;5;124m\"\u001b[39m)\n\u001b[1;32m     40\u001b[0m     func(\u001b[38;5;241m*\u001b[39margs, \u001b[38;5;241m*\u001b[39m\u001b[38;5;241m*\u001b[39mkwargs)\n",
      "\u001b[0;31mNotImplementedError\u001b[0m: After the initialization, `properties` and its attributes are read-only!"
     ]
    }
   ],
   "source": [
    "structure.properties.pbc = 4"
   ]
  },
  {
   "cell_type": "markdown",
   "metadata": {},
   "source": [
    "#### Trying to set some unsupported property:"
   ]
  },
  {
   "cell_type": "code",
   "execution_count": 10,
   "metadata": {},
   "outputs": [
    {
     "ename": "NotImplementedError",
     "evalue": "Property 'unsupported_property' is not yet supported.\nSupported properties are: {'pbc', 'custom'}",
     "output_type": "error",
     "traceback": [
      "\u001b[0;31m---------------------------------------------------------------------------\u001b[0m",
      "\u001b[0;31mNotImplementedError\u001b[0m                       Traceback (most recent call last)",
      "Cell \u001b[0;32mIn[10], line 1\u001b[0m\n\u001b[0;32m----> 1\u001b[0m structure \u001b[38;5;241m=\u001b[39m \u001b[43mStructureData\u001b[49m\u001b[43m(\u001b[49m\n\u001b[1;32m      2\u001b[0m \u001b[43m        \u001b[49m\u001b[43mase\u001b[49m\u001b[38;5;241;43m=\u001b[39;49m\u001b[43matoms\u001b[49m\u001b[43m,\u001b[49m\n\u001b[1;32m      3\u001b[0m \u001b[43m        \u001b[49m\u001b[43mproperties\u001b[49m\u001b[38;5;241;43m=\u001b[39;49m\u001b[43m{\u001b[49m\n\u001b[1;32m      4\u001b[0m \u001b[43m                \u001b[49m\u001b[38;5;124;43m'\u001b[39;49m\u001b[38;5;124;43mpbc\u001b[39;49m\u001b[38;5;124;43m'\u001b[39;49m\u001b[43m:\u001b[49m\u001b[43m \u001b[49m\u001b[43m{\u001b[49m\u001b[38;5;124;43m'\u001b[39;49m\u001b[38;5;124;43mvalue\u001b[39;49m\u001b[38;5;124;43m'\u001b[39;49m\u001b[43m:\u001b[49m\u001b[43m[\u001b[49m\u001b[38;5;28;43;01mTrue\u001b[39;49;00m\u001b[43m,\u001b[49m\u001b[38;5;28;43;01mFalse\u001b[39;49;00m\u001b[43m,\u001b[49m\u001b[38;5;28;43;01mTrue\u001b[39;49;00m\u001b[43m]\u001b[49m\u001b[43m}\u001b[49m\u001b[43m,\u001b[49m\n\u001b[1;32m      5\u001b[0m \u001b[43m                \u001b[49m\u001b[38;5;124;43m'\u001b[39;49m\u001b[38;5;124;43munsupported_property\u001b[39;49m\u001b[38;5;124;43m'\u001b[39;49m\u001b[43m:\u001b[49m\u001b[43m{\u001b[49m\u001b[43m}\u001b[49m\u001b[43m \u001b[49m\n\u001b[1;32m      6\u001b[0m \u001b[43m        \u001b[49m\u001b[43m}\u001b[49m\u001b[43m)\u001b[49m\n",
      "File \u001b[0;32m~/Envs/aiida-muonic/codes/aiida-atomistic/aiida_atomistic/data/structure/structure.py:137\u001b[0m, in \u001b[0;36mStructureData.__init__\u001b[0;34m(self, cell, pbc, ase, pymatgen, pymatgen_structure, pymatgen_molecule, properties, **kwargs)\u001b[0m\n\u001b[1;32m    126\u001b[0m \u001b[38;5;28msuper\u001b[39m()\u001b[38;5;241m.\u001b[39m\u001b[38;5;21m__init__\u001b[39m(\n\u001b[1;32m    127\u001b[0m     cell,\n\u001b[1;32m    128\u001b[0m     pbc,\n\u001b[0;32m   (...)\u001b[0m\n\u001b[1;32m    133\u001b[0m     \u001b[38;5;241m*\u001b[39m\u001b[38;5;241m*\u001b[39mkwargs,\n\u001b[1;32m    134\u001b[0m )\n\u001b[1;32m    136\u001b[0m \u001b[38;5;66;03m# Private property attribute\u001b[39;00m\n\u001b[0;32m--> 137\u001b[0m \u001b[38;5;28mself\u001b[39m\u001b[38;5;241m.\u001b[39m_property_attribute \u001b[38;5;241m=\u001b[39m \u001b[43mPropertyCollector\u001b[49m\u001b[43m(\u001b[49m\u001b[43mparent\u001b[49m\u001b[38;5;241;43m=\u001b[39;49m\u001b[38;5;28;43mself\u001b[39;49m\u001b[43m,\u001b[49m\u001b[43m \u001b[49m\u001b[43mproperties\u001b[49m\u001b[38;5;241;43m=\u001b[39;49m\u001b[43mproperties\u001b[49m\u001b[43m)\u001b[49m\n",
      "File \u001b[0;32m~/Envs/aiida-muonic/codes/aiida-atomistic/aiida_atomistic/data/structure/structure.py:58\u001b[0m, in \u001b[0;36mPropertyCollector.__init__\u001b[0;34m(self, parent, properties)\u001b[0m\n\u001b[1;32m     54\u001b[0m \u001b[38;5;66;03m# properties: Dictionary containing the properties. The key is the name of the property and the value                                                           \u001b[39;00m\n\u001b[1;32m     55\u001b[0m \u001b[38;5;66;03m# is an instance of the corresponding Property subclass value.\u001b[39;00m\n\u001b[1;32m     56\u001b[0m \u001b[38;5;28msuper\u001b[39m()\u001b[38;5;241m.\u001b[39m\u001b[38;5;21m__init__\u001b[39m()\n\u001b[0;32m---> 58\u001b[0m \u001b[38;5;28;43mself\u001b[39;49m\u001b[38;5;241;43m.\u001b[39;49m\u001b[43minspect_property\u001b[49m\u001b[43m(\u001b[49m\u001b[43mproperties\u001b[49m\u001b[43m)\u001b[49m\n\u001b[1;32m     60\u001b[0m \u001b[38;5;28mself\u001b[39m\u001b[38;5;241m.\u001b[39m_property_attributes \u001b[38;5;241m=\u001b[39m properties\n\u001b[1;32m     61\u001b[0m \u001b[38;5;66;03m# Store the properties in the StructureData node.\u001b[39;00m\n\u001b[1;32m     62\u001b[0m \u001b[38;5;66;03m#self._parent.base.attributes.set('_property_attributes',{})\u001b[39;00m\n",
      "File \u001b[0;32m~/Envs/aiida-muonic/codes/aiida-atomistic/aiida_atomistic/data/structure/structure.py:88\u001b[0m, in \u001b[0;36mPropertyCollector.inspect_property\u001b[0;34m(self, properties)\u001b[0m\n\u001b[1;32m     86\u001b[0m \u001b[38;5;28;01mfor\u001b[39;00m pname,pvalue \u001b[38;5;129;01min\u001b[39;00m properties\u001b[38;5;241m.\u001b[39mitems():\n\u001b[1;32m     87\u001b[0m     \u001b[38;5;28;01mif\u001b[39;00m pname \u001b[38;5;129;01mnot\u001b[39;00m \u001b[38;5;129;01min\u001b[39;00m \u001b[38;5;28mself\u001b[39m\u001b[38;5;241m.\u001b[39mget_valid_properties():\n\u001b[0;32m---> 88\u001b[0m         \u001b[38;5;28;01mraise\u001b[39;00m \u001b[38;5;167;01mNotImplementedError\u001b[39;00m(\u001b[38;5;124mf\u001b[39m\u001b[38;5;124m\"\u001b[39m\u001b[38;5;124mProperty \u001b[39m\u001b[38;5;124m'\u001b[39m\u001b[38;5;132;01m{\u001b[39;00mpname\u001b[38;5;132;01m}\u001b[39;00m\u001b[38;5;124m'\u001b[39m\u001b[38;5;124m is not yet supported.\u001b[39m\u001b[38;5;130;01m\\n\u001b[39;00m\u001b[38;5;124mSupported properties are: \u001b[39m\u001b[38;5;132;01m{\u001b[39;00m\u001b[38;5;28mself\u001b[39m\u001b[38;5;241m.\u001b[39mget_valid_properties()\u001b[38;5;132;01m}\u001b[39;00m\u001b[38;5;124m\"\u001b[39m)\n\u001b[1;32m     89\u001b[0m     \u001b[38;5;66;03m# custom properties:\u001b[39;00m\n\u001b[1;32m     90\u001b[0m     \u001b[38;5;66;03m#elif pname in self.get_valid_properties():\u001b[39;00m\n\u001b[1;32m     91\u001b[0m     \u001b[38;5;66;03m#    raise NotImplementedError(f\"Property '{pname}' is not yet supported.\\nSupported properties are: {self.get_valid_properties()}\")\u001b[39;00m\n\u001b[1;32m     92\u001b[0m     \u001b[38;5;28;01melif\u001b[39;00m \u001b[38;5;129;01mnot\u001b[39;00m pvalue:\n",
      "\u001b[0;31mNotImplementedError\u001b[0m: Property 'unsupported_property' is not yet supported.\nSupported properties are: {'pbc', 'custom'}"
     ]
    }
   ],
   "source": [
    "structure = StructureData(\n",
    "        ase=atoms,\n",
    "        properties={\n",
    "                'pbc': {'value':[True,False,True]},\n",
    "                'unsupported_property':{} \n",
    "        })"
   ]
  },
  {
   "cell_type": "markdown",
   "metadata": {},
   "source": [
    "#### Type checking for the `properties` input and its content"
   ]
  },
  {
   "cell_type": "code",
   "execution_count": 11,
   "metadata": {},
   "outputs": [
    {
     "ename": "ValueError",
     "evalue": "The `properties` input is not of the right type. Expected '<class 'dict'>', received '<class 'list'>'.",
     "output_type": "error",
     "traceback": [
      "\u001b[0;31m---------------------------------------------------------------------------\u001b[0m",
      "\u001b[0;31mValueError\u001b[0m                                Traceback (most recent call last)",
      "Cell \u001b[0;32mIn[11], line 1\u001b[0m\n\u001b[0;32m----> 1\u001b[0m structure \u001b[38;5;241m=\u001b[39m \u001b[43mStructureData\u001b[49m\u001b[43m(\u001b[49m\n\u001b[1;32m      2\u001b[0m \u001b[43m        \u001b[49m\u001b[43mase\u001b[49m\u001b[38;5;241;43m=\u001b[39;49m\u001b[43matoms\u001b[49m\u001b[43m,\u001b[49m\n\u001b[1;32m      3\u001b[0m \u001b[43m        \u001b[49m\u001b[43mproperties\u001b[49m\u001b[38;5;241;43m=\u001b[39;49m\u001b[43m[\u001b[49m\u001b[43m(\u001b[49m\u001b[38;5;124;43m'\u001b[39;49m\u001b[38;5;124;43mpbc\u001b[39;49m\u001b[38;5;124;43m'\u001b[39;49m\u001b[43m,\u001b[49m\u001b[43m{\u001b[49m\u001b[38;5;124;43m'\u001b[39;49m\u001b[38;5;124;43mvalue\u001b[39;49m\u001b[38;5;124;43m'\u001b[39;49m\u001b[43m:\u001b[49m\u001b[43m[\u001b[49m\u001b[38;5;28;43;01mTrue\u001b[39;49;00m\u001b[43m,\u001b[49m\u001b[38;5;28;43;01mFalse\u001b[39;49;00m\u001b[43m,\u001b[49m\u001b[38;5;28;43;01mTrue\u001b[39;49;00m\u001b[43m]\u001b[49m\u001b[43m}\u001b[49m\u001b[43m)\u001b[49m\u001b[43m]\u001b[49m\u001b[43m)\u001b[49m\n",
      "File \u001b[0;32m~/Envs/aiida-muonic/codes/aiida-atomistic/aiida_atomistic/data/structure/structure.py:124\u001b[0m, in \u001b[0;36mStructureData.__init__\u001b[0;34m(self, cell, pbc, ase, pymatgen, pymatgen_structure, pymatgen_molecule, properties, **kwargs)\u001b[0m\n\u001b[1;32m    119\u001b[0m \u001b[38;5;250m\u001b[39m\u001b[38;5;124;03m\"\"\"\u001b[39;00m\n\u001b[1;32m    120\u001b[0m \u001b[38;5;124;03mThe '_property_attribute', has to be stored in self., not in cls. as in the first version of the prototype\u001b[39;00m\n\u001b[1;32m    121\u001b[0m \u001b[38;5;124;03mOtherwise we have info in the cls, not in the self.\u001b[39;00m\n\u001b[1;32m    122\u001b[0m \u001b[38;5;124;03m\"\"\"\u001b[39;00m\n\u001b[1;32m    123\u001b[0m \u001b[38;5;28;01mif\u001b[39;00m \u001b[38;5;129;01mnot\u001b[39;00m \u001b[38;5;28misinstance\u001b[39m(properties, \u001b[38;5;28mdict\u001b[39m):\n\u001b[0;32m--> 124\u001b[0m     \u001b[38;5;28;01mraise\u001b[39;00m \u001b[38;5;167;01mValueError\u001b[39;00m(\u001b[38;5;124mf\u001b[39m\u001b[38;5;124m\"\u001b[39m\u001b[38;5;124mThe `properties` input is not of the right type. Expected \u001b[39m\u001b[38;5;124m'\u001b[39m\u001b[38;5;132;01m{\u001b[39;00m\u001b[38;5;28mtype\u001b[39m(\u001b[38;5;28mdict\u001b[39m())\u001b[38;5;132;01m}\u001b[39;00m\u001b[38;5;124m'\u001b[39m\u001b[38;5;124m, received \u001b[39m\u001b[38;5;124m'\u001b[39m\u001b[38;5;132;01m{\u001b[39;00m\u001b[38;5;28mtype\u001b[39m(properties)\u001b[38;5;132;01m}\u001b[39;00m\u001b[38;5;124m'\u001b[39m\u001b[38;5;124m.\u001b[39m\u001b[38;5;124m\"\u001b[39m)\n\u001b[1;32m    126\u001b[0m \u001b[38;5;28msuper\u001b[39m()\u001b[38;5;241m.\u001b[39m\u001b[38;5;21m__init__\u001b[39m(\n\u001b[1;32m    127\u001b[0m     cell,\n\u001b[1;32m    128\u001b[0m     pbc,\n\u001b[0;32m   (...)\u001b[0m\n\u001b[1;32m    133\u001b[0m     \u001b[38;5;241m*\u001b[39m\u001b[38;5;241m*\u001b[39mkwargs,\n\u001b[1;32m    134\u001b[0m )\n\u001b[1;32m    136\u001b[0m \u001b[38;5;66;03m# Private property attribute\u001b[39;00m\n",
      "\u001b[0;31mValueError\u001b[0m: The `properties` input is not of the right type. Expected '<class 'dict'>', received '<class 'list'>'."
     ]
    }
   ],
   "source": [
    "structure = StructureData(\n",
    "        ase=atoms,\n",
    "        properties=[('pbc',{'value':[True,False,True]})])"
   ]
  },
  {
   "cell_type": "code",
   "execution_count": 12,
   "metadata": {},
   "outputs": [
    {
     "ename": "ValueError",
     "evalue": "The 'pbc' value is not of the right type. Expected '<class 'dict'>', received '<class 'list'>'.",
     "output_type": "error",
     "traceback": [
      "\u001b[0;31m---------------------------------------------------------------------------\u001b[0m",
      "\u001b[0;31mValueError\u001b[0m                                Traceback (most recent call last)",
      "Cell \u001b[0;32mIn[12], line 1\u001b[0m\n\u001b[0;32m----> 1\u001b[0m structure \u001b[38;5;241m=\u001b[39m \u001b[43mStructureData\u001b[49m\u001b[43m(\u001b[49m\n\u001b[1;32m      2\u001b[0m \u001b[43m        \u001b[49m\u001b[43mase\u001b[49m\u001b[38;5;241;43m=\u001b[39;49m\u001b[43matoms\u001b[49m\u001b[43m,\u001b[49m\n\u001b[1;32m      3\u001b[0m \u001b[43m        \u001b[49m\u001b[43mproperties\u001b[49m\u001b[38;5;241;43m=\u001b[39;49m\u001b[43m{\u001b[49m\n\u001b[1;32m      4\u001b[0m \u001b[43m                \u001b[49m\u001b[38;5;124;43m'\u001b[39;49m\u001b[38;5;124;43mpbc\u001b[39;49m\u001b[38;5;124;43m'\u001b[39;49m\u001b[43m:\u001b[49m\u001b[43m \u001b[49m\u001b[43m[\u001b[49m\u001b[43m{\u001b[49m\u001b[38;5;124;43m'\u001b[39;49m\u001b[38;5;124;43mvalue\u001b[39;49m\u001b[38;5;124;43m'\u001b[39;49m\u001b[43m:\u001b[49m\u001b[43m[\u001b[49m\u001b[38;5;28;43;01mTrue\u001b[39;49;00m\u001b[43m,\u001b[49m\u001b[38;5;28;43;01mFalse\u001b[39;49;00m\u001b[43m,\u001b[49m\u001b[38;5;28;43;01mTrue\u001b[39;49;00m\u001b[43m]\u001b[49m\u001b[43m}\u001b[49m\u001b[43m]\u001b[49m\u001b[43m,\u001b[49m\n\u001b[1;32m      5\u001b[0m \u001b[43m        \u001b[49m\u001b[43m}\u001b[49m\u001b[43m)\u001b[49m\n",
      "File \u001b[0;32m~/Envs/aiida-muonic/codes/aiida-atomistic/aiida_atomistic/data/structure/structure.py:137\u001b[0m, in \u001b[0;36mStructureData.__init__\u001b[0;34m(self, cell, pbc, ase, pymatgen, pymatgen_structure, pymatgen_molecule, properties, **kwargs)\u001b[0m\n\u001b[1;32m    126\u001b[0m \u001b[38;5;28msuper\u001b[39m()\u001b[38;5;241m.\u001b[39m\u001b[38;5;21m__init__\u001b[39m(\n\u001b[1;32m    127\u001b[0m     cell,\n\u001b[1;32m    128\u001b[0m     pbc,\n\u001b[0;32m   (...)\u001b[0m\n\u001b[1;32m    133\u001b[0m     \u001b[38;5;241m*\u001b[39m\u001b[38;5;241m*\u001b[39mkwargs,\n\u001b[1;32m    134\u001b[0m )\n\u001b[1;32m    136\u001b[0m \u001b[38;5;66;03m# Private property attribute\u001b[39;00m\n\u001b[0;32m--> 137\u001b[0m \u001b[38;5;28mself\u001b[39m\u001b[38;5;241m.\u001b[39m_property_attribute \u001b[38;5;241m=\u001b[39m \u001b[43mPropertyCollector\u001b[49m\u001b[43m(\u001b[49m\u001b[43mparent\u001b[49m\u001b[38;5;241;43m=\u001b[39;49m\u001b[38;5;28;43mself\u001b[39;49m\u001b[43m,\u001b[49m\u001b[43m \u001b[49m\u001b[43mproperties\u001b[49m\u001b[38;5;241;43m=\u001b[39;49m\u001b[43mproperties\u001b[49m\u001b[43m)\u001b[49m\n",
      "File \u001b[0;32m~/Envs/aiida-muonic/codes/aiida-atomistic/aiida_atomistic/data/structure/structure.py:58\u001b[0m, in \u001b[0;36mPropertyCollector.__init__\u001b[0;34m(self, parent, properties)\u001b[0m\n\u001b[1;32m     54\u001b[0m \u001b[38;5;66;03m# properties: Dictionary containing the properties. The key is the name of the property and the value                                                           \u001b[39;00m\n\u001b[1;32m     55\u001b[0m \u001b[38;5;66;03m# is an instance of the corresponding Property subclass value.\u001b[39;00m\n\u001b[1;32m     56\u001b[0m \u001b[38;5;28msuper\u001b[39m()\u001b[38;5;241m.\u001b[39m\u001b[38;5;21m__init__\u001b[39m()\n\u001b[0;32m---> 58\u001b[0m \u001b[38;5;28;43mself\u001b[39;49m\u001b[38;5;241;43m.\u001b[39;49m\u001b[43minspect_property\u001b[49m\u001b[43m(\u001b[49m\u001b[43mproperties\u001b[49m\u001b[43m)\u001b[49m\n\u001b[1;32m     60\u001b[0m \u001b[38;5;28mself\u001b[39m\u001b[38;5;241m.\u001b[39m_property_attributes \u001b[38;5;241m=\u001b[39m properties\n\u001b[1;32m     61\u001b[0m \u001b[38;5;66;03m# Store the properties in the StructureData node.\u001b[39;00m\n\u001b[1;32m     62\u001b[0m \u001b[38;5;66;03m#self._parent.base.attributes.set('_property_attributes',{})\u001b[39;00m\n",
      "File \u001b[0;32m~/Envs/aiida-muonic/codes/aiida-atomistic/aiida_atomistic/data/structure/structure.py:97\u001b[0m, in \u001b[0;36mPropertyCollector.inspect_property\u001b[0;34m(self, properties)\u001b[0m\n\u001b[1;32m     95\u001b[0m     \u001b[38;5;28;01mraise\u001b[39;00m \u001b[38;5;167;01mValueError\u001b[39;00m(\u001b[38;5;124mf\u001b[39m\u001b[38;5;124m\"\u001b[39m\u001b[38;5;124mProperty \u001b[39m\u001b[38;5;124m'\u001b[39m\u001b[38;5;132;01m{\u001b[39;00mpname\u001b[38;5;132;01m}\u001b[39;00m\u001b[38;5;124m'\u001b[39m\u001b[38;5;124m is empty.\u001b[39m\u001b[38;5;124m\"\u001b[39m)\n\u001b[1;32m     96\u001b[0m \u001b[38;5;28;01melif\u001b[39;00m \u001b[38;5;129;01mnot\u001b[39;00m \u001b[38;5;28misinstance\u001b[39m(pvalue, \u001b[38;5;28mdict\u001b[39m):\n\u001b[0;32m---> 97\u001b[0m     \u001b[38;5;28;01mraise\u001b[39;00m \u001b[38;5;167;01mValueError\u001b[39;00m(\u001b[38;5;124mf\u001b[39m\u001b[38;5;124m\"\u001b[39m\u001b[38;5;124mThe \u001b[39m\u001b[38;5;124m'\u001b[39m\u001b[38;5;132;01m{\u001b[39;00mpname\u001b[38;5;132;01m}\u001b[39;00m\u001b[38;5;124m'\u001b[39m\u001b[38;5;124m value is not of the right type. Expected \u001b[39m\u001b[38;5;124m'\u001b[39m\u001b[38;5;132;01m{\u001b[39;00m\u001b[38;5;28mtype\u001b[39m(\u001b[38;5;28mdict\u001b[39m())\u001b[38;5;132;01m}\u001b[39;00m\u001b[38;5;124m'\u001b[39m\u001b[38;5;124m, received \u001b[39m\u001b[38;5;124m'\u001b[39m\u001b[38;5;132;01m{\u001b[39;00m\u001b[38;5;28mtype\u001b[39m(pvalue)\u001b[38;5;132;01m}\u001b[39;00m\u001b[38;5;124m'\u001b[39m\u001b[38;5;124m.\u001b[39m\u001b[38;5;124m\"\u001b[39m)\n",
      "\u001b[0;31mValueError\u001b[0m: The 'pbc' value is not of the right type. Expected '<class 'dict'>', received '<class 'list'>'."
     ]
    }
   ],
   "source": [
    "structure = StructureData(\n",
    "        ase=atoms,\n",
    "        properties={\n",
    "                'pbc': [{'value':[True,False,True]}],\n",
    "        })"
   ]
  },
  {
   "cell_type": "code",
   "execution_count": null,
   "metadata": {},
   "outputs": [],
   "source": []
  },
  {
   "cell_type": "markdown",
   "metadata": {},
   "source": [
    "# TESTS"
   ]
  },
  {
   "cell_type": "code",
   "execution_count": 19,
   "metadata": {},
   "outputs": [],
   "source": [
    "structure = StructureData(\n",
    "        ase=atoms,\n",
    "        properties={\n",
    "                'pbc': {'value':[True,False,True]},\n",
    "                },\n",
    "        )\n",
    "\n",
    "assert structure.properties.pbc.value == [True,False,True], \"should be [True,False,True]\""
   ]
  },
  {
   "cell_type": "code",
   "execution_count": 37,
   "metadata": {},
   "outputs": [],
   "source": [
    "def test_pbc_value(correct_value = [True,False,True]):\n",
    "    \n",
    "    print(\"Testing pbc value...\")\n",
    "    \n",
    "    structure = StructureData(\n",
    "        ase=atoms,\n",
    "        properties={\n",
    "                'pbc': {'value':correct_value},\n",
    "                },\n",
    "        )\n",
    "\n",
    "    assert structure.properties.pbc.value == correct_value, f\"value should be {correct_value}\"\n",
    "    assert isinstance(structure.properties.pbc.value, type(correct_value)), \"type of the value should be {type(correct_value)}\"\n",
    "    \n",
    "    print(\"... Testing pbc value passed without errors.\")"
   ]
  },
  {
   "cell_type": "code",
   "execution_count": 38,
   "metadata": {},
   "outputs": [
    {
     "name": "stdout",
     "output_type": "stream",
     "text": [
      "Testing pbc value...\n",
      "... Testing pbc value passed without errors.\n"
     ]
    }
   ],
   "source": [
    "test_pbc_value()"
   ]
  },
  {
   "cell_type": "code",
   "execution_count": null,
   "metadata": {},
   "outputs": [],
   "source": []
  }
 ],
 "metadata": {
  "kernelspec": {
   "display_name": "aiida-muonic",
   "language": "python",
   "name": "python3"
  },
  "language_info": {
   "codemirror_mode": {
    "name": "ipython",
    "version": 3
   },
   "file_extension": ".py",
   "mimetype": "text/x-python",
   "name": "python",
   "nbconvert_exporter": "python",
   "pygments_lexer": "ipython3",
   "version": "3.10.11"
  }
 },
 "nbformat": 4,
 "nbformat_minor": 2
}
