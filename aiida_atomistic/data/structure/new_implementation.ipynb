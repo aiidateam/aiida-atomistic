{
 "cells": [
  {
   "cell_type": "code",
   "execution_count": 78,
   "metadata": {},
   "outputs": [],
   "source": [
    "%aiida\n",
    "from aiida import orm\n",
    "#StructureData = DataFactory('atomistic.structure') # or: from aiida_atomistic.data.structure.structure import StructureData\n",
    "StructureData = orm.StructureData"
   ]
  },
  {
   "cell_type": "markdown",
   "metadata": {},
   "source": [
    "# Implementation of the new StructureData \n",
    "\n",
    "## New data type and classes\n",
    "\n",
    "In the following we define the new StructureData class, here named `StructureData_prototype` for simplicity, as it should be implemented in the `aiida-atomistic` package. \n",
    "We then define the `PropertyCollector` class, which manages all the properties taking care of all data validation and storage instructions. Instance of this class will be created within the initialization of the StructureData instance and is stored under the `properties` attribute. \n",
    "\n",
    "In the final implementation, original StructureData will be named `LegacyStructureData` and StructureData_prototype `StructureData`.\n",
    "\n",
    "## Rules for the properties:\n",
    "\n",
    "- properties are stored under the `properties` attribute of the `StructureData` instance. This attribute is immutable. `STATUS: done`;\n",
    "- the `properties` attribute is a dictionary, keys being the name of each property and values being a dictionary with the information about the property, which we will store when the StructureData node is stored in the AiiDA db. `STATUS: storage part to be done`;\n",
    "- information about a property can be provided in only one format (we may implement, in each property, some method to translate from common formats to the accepted one). `STATUS: todo the possiblity to have property class methods`;\n",
    "- no direct change of the properties is allowed. `STATUS: done`;\n",
    "- backward compatibility: structure.pbc and structure.kinds are still there. `STATUS: done`;\n",
    "- always possible to access the list of defined and of supported properties. `STATUS: done`;\n",
    "- support for custom properties. `STATUS: todo`;\n",
    "- constructors: adapt methods like `from_ase` to support also the interface with the properties stored in a given `Atoms` object. `STATUS: todo`.\n",
    "\n",
    "## Backward-compatibility:\n",
    "\n",
    "The new StructureData class will be a subclass of the old StructureData. This is the best way to ensure \n",
    "backward compatibility while avoiding code duplication. This enhance also how this new AiiDA data type is indeed and extension of the original StructureData.\n",
    "In the future, the entire orm.StructureData module will be moved into the `aiida-atomistic` package and the `pbc` and `kinds` attribute will be removed."
   ]
  },
  {
   "cell_type": "code",
   "execution_count": 156,
   "metadata": {},
   "outputs": [],
   "source": [
    "import typing\n",
    "from typing import Any,Dict,List\n",
    "from pydantic import BaseModel, ConfigDict, Field\n",
    "from abc import ABCMeta\n",
    "\n",
    "######################decorator to allow no calls outside the initialization step: actually, we do not need/use it. \n",
    "import inspect\n",
    "\n",
    "def allow_no_calls_decorator(func):\n",
    "    \"\"\"\n",
    "    This decorator checks if the methods are called \n",
    "    from the class, i.e. during the instance creation,\n",
    "    or via a call which is performed by the user. The\n",
    "    last way is not allowed. In this way, we essentially \n",
    "    protect our code against misuse of the API.    \n",
    "    \"\"\"\n",
    "    def wrapper(*args, **kwargs):\n",
    "        frame = inspect.currentframe()\n",
    "\n",
    "        try:\n",
    "            locals = frame.f_back.f_locals\n",
    "\n",
    "            if locals.get('self', None) is args[0]:\n",
    "                print(\"Called from this class!\")\n",
    "                func(*args, **kwargs)\n",
    "            else:\n",
    "                raise NotImplementedError(\"This method cannot be called directly!\")\n",
    "        finally:\n",
    "            pass\n",
    "    return wrapper\n",
    "\n",
    "##########################################\n",
    "\n",
    "################################################## Start: Base Class for a property:\n",
    "class BaseProperty(BaseModel):\n",
    "    # Pydantic2 syntax: #model_config = ConfigDict(frozen=True, extra='forbid')\n",
    "    parent: StructureData = Field(\n",
    "        #init_var=True   # Does not show when dumping the model (but I think it works only in pydantic 2)\n",
    "        )\n",
    "    \n",
    "    \"\"\"\n",
    "    parent: Data = Field(  #Data is ok if we do not redefine the aiida-core Data class.\n",
    "        #init_var=True   # Does not show when dumping the model (but I think it works only in pydantic 2)\n",
    "        )\n",
    "    \"\"\"\n",
    "    class Config:\n",
    "        frozen = True                  # No changes allowed: immutability\n",
    "        extra = 'forbid'               # No extra arguments or attributes allowed.\n",
    "        arbitrary_types_allowed = True # You can remove if also StructureData inherits from BaseModel.\n",
    "\n",
    "\n",
    "################################################## End: Base Class for a property.\n",
    "\n",
    "\n",
    "################################################## Start: PBC property:\n",
    "\n",
    "class Pbc(BaseProperty):\n",
    "    \"\"\"\n",
    "    The pbc property. \n",
    "    It is different from the pbc attribute directly accessible from the StructureData object.\n",
    "    \"\"\"\n",
    "    value: List[bool] = Field(min_items=3, max_items=3, default=[True,True,True])\n",
    "    \n",
    "    @classmethod\n",
    "    def from_string(cls, dimensionality:str = \"3D\"):\n",
    "        if dimensionality==\"3D\":\n",
    "            pbc = [True]*3\n",
    "        elif dimensionality==\"0D\":\n",
    "            pbc = [False]*3\n",
    "        else:\n",
    "            raise ValueError\n",
    "        \n",
    "        return {'value': pbc}\n",
    "\n",
    "################################################## End: PBC property.\n",
    "\n",
    "################################################## Start: Template Custom property:\n",
    "\n",
    "class CustomProperty(BaseProperty):\n",
    "    \"\"\"\n",
    "    Template for custom properties.\n",
    "    To set it in the StructureData, you need to provide the name of the property in a given format.\n",
    "    For example:\n",
    "        structure = StructureData_prototype(\n",
    "            ase=atoms,\n",
    "            properties = {\n",
    "            \"pbc\": {\"value\": [True,True,True]},\n",
    "            \"custom_collinear_magnetization\": {\"value\": [1,1,1]},\n",
    "            },\n",
    "        ) \n",
    "    \"\"\"\n",
    "    value: Any = Field()\n",
    "\n",
    "################################################## End: PBC property.\n",
    "\n",
    "\n",
    "class PropertyInfo:\n",
    "    # Might store the parameters passed to property\n",
    "    def __init__(self,):\n",
    "        self.value = None\n",
    "\n",
    "def Property():\n",
    "    # If we define parameters, store them in the PropertyInfo\n",
    "    return PropertyInfo()\n",
    "\n",
    "\n"
   ]
  },
  {
   "cell_type": "code",
   "execution_count": 157,
   "metadata": {},
   "outputs": [],
   "source": [
    "################################################## Start: Mixin classes:\n",
    "\n",
    "class PropertyMixinMetaclass(ABCMeta):\n",
    "    \n",
    "    \"\"\"\n",
    "    This class attach the setter and getter method for a property, \n",
    "    as defined in the HasPropertyMixin class, respectively with the\n",
    "    _set_property and _template_property methods. \n",
    "    If we use only a constructor for the creation of the StructureData\n",
    "    together with the properties, we do not need it.\n",
    "    \n",
    "    We do not allow to set any property after the creation of the instance: \n",
    "    ===> we do not set the `fset` attribute.\n",
    "    \"\"\"\n",
    "\n",
    "    def __new__(mcs, name, bases, namespace, **kwargs):  # noqa C901\n",
    "        cls = super().__new__(mcs, name, bases, namespace, **kwargs)\n",
    "\n",
    "        for attr, type_hint in typing.get_type_hints(cls).items():\n",
    "            if isinstance(getattr(cls, attr), PropertyInfo):\n",
    "                assert issubclass(type_hint, BaseProperty)\n",
    "                cls._valid_properties.add(attr)\n",
    "                func_get = lambda self, type_hint=type_hint, attr=attr: self._template_property(type_hint=type_hint, attr=attr)\n",
    "                \n",
    "                # We do not allow to set any property after the creation of the instance: \n",
    "                #===> WE DO NOT NEED TO SET THE `fset` ATTRIBUTE. \n",
    "                # Here below, we leave it there for now, in case it is needed in the future.\n",
    "                # I define also a setter, TOTEST if we stay immutable wrt other ways to change the property:\n",
    "                func_set = lambda self, pname=None, pvalue=None: self._set_property(pname, pvalue)\n",
    "                setattr(cls, attr, property(fget=func_get,fset=func_set))\n",
    "\n",
    "        \n",
    "        return cls            \n",
    "\n",
    "class HasPropertyMixin(metaclass=PropertyMixinMetaclass):\n",
    "    _valid_properties = set()\n",
    "\n",
    "    def _template_property(self, type_hint, attr):\n",
    "        try:\n",
    "            return type_hint(\n",
    "                parent=self._parent,\n",
    "                **self.get_property_attribute(attr)\n",
    "            )\n",
    "        except: \n",
    "            return type_hint(\n",
    "                parent=self._parent,\n",
    "            )\n",
    "\n",
    "    # This function is never used:\n",
    "    @allow_no_calls_decorator\n",
    "    def _set_property(self, pname=None, pvalue=None):\n",
    "\n",
    "        try:\n",
    "            #internal check, using the Pydantic initialization.\n",
    "            type_hint = typing.get_type_hints(self)[pname]\n",
    "            prop = type_hint(\n",
    "                parent=self._parent,\n",
    "                **pvalue\n",
    "            )\n",
    "            \n",
    "            self._database_wise_setter(pname, pvalue)\n",
    "            return\n",
    "        except KeyError: \n",
    "            return None\n",
    "    \n",
    "    def _database_wise_setter(self, pname, pvalue):\n",
    "        property_attributes = self._parent.base.attributes.get(\"_property_attributes\").copy()\n",
    "        property_attributes[pname] = pvalue\n",
    "        self._parent.base.attributes.set(\"_property_attributes\",property_attributes)\n",
    "        return\n",
    "        \n",
    "    def get_valid_properties(self):\n",
    "        # Get the implemented properties\n",
    "        return self._valid_properties.copy()\n",
    "\n",
    "    def get_defined_properties(self):\n",
    "        # Get the properties that you already set\n",
    "        property_attributes = self._parent.base.attributes.get(\"_property_attributes\")\n",
    "        return list(set(self.get_valid_properties()).intersection(\n",
    "            property_attributes.keys()\n",
    "        ))\n",
    "        \n",
    "################################################## End: Mixin classes."
   ]
  },
  {
   "cell_type": "markdown",
   "metadata": {},
   "source": [
    "## Definition of the `PropertyCollector` and `StructureData_protoype` classes."
   ]
  },
  {
   "cell_type": "code",
   "execution_count": 158,
   "metadata": {},
   "outputs": [],
   "source": [
    "class PropertyCollector(HasPropertyMixin):\n",
    "    \"\"\"\n",
    "    This class is the one used in the StructureData to manage the properties. \n",
    "    In principle, it cannot be modified after creation, i.e. is immutable. This respects \n",
    "    the `immutability principle` of a StructureData node and requires the creation of a new \n",
    "    StructureData instance in case we need to add/update/delete a property.\n",
    "    \n",
    "    In the init method, we need also to provide the parent StructureData node, which will have the\n",
    "    PropertyCollector instance as attribute, and a dictionary with the properties. We then loop on the \n",
    "    keys of the properties to initialise all our properties, respecting the rules imposed in each class. \n",
    "    \n",
    "    In principle, we are going to hide every module and information on properties here, in such a way to\n",
    "    leave as clean as possible the StructureData module.\n",
    "    \n",
    "    #### Need of a crystal structure:\n",
    "    The idea is that we can no more initialise the StructureData without any information, or at least we\n",
    "    cannot initialise any properties without crystal structure information. This is related to consistency\n",
    "    checks. \n",
    "    So we need some check in the StructureData also, that block or give empty PropertyCollector attribute \n",
    "    (StructureData.properties) case no crystal structure is defined.\n",
    "    \n",
    "    #### Property format:\n",
    "    The properties are stored exactly as they are provided in the construction of the class instance: in \n",
    "    this way, we do not have ambiguities when the properties are used or loaded from the database/repository.\n",
    "    To facilitate this, we may provided some `translation methods` from and to the format allowed in the property.\n",
    "    \"\"\"\n",
    "    \n",
    "    # Supported properties below:\n",
    "    pbc: Pbc = Property()\n",
    "    custom: CustomProperty = Property()\n",
    "    \n",
    "    def __init__(self, parent, properties: Dict[str, Dict[str, Any]] = {}):\n",
    "        \n",
    "        if not isinstance(properties, dict):\n",
    "            raise ValueError(f\"The `properties` input is not of the right type. Expected '{type(dict())}', received '{type(properties)}'.\")\n",
    "        \n",
    "        self._parent = parent # Parent StructureData object\n",
    "        \n",
    "        # properties: Dictionary containing the properties. The key is the name of the property and the value                                                           \n",
    "        # is an instance of the corresponding Property subclass value.\n",
    "        super().__init__()\n",
    "        \n",
    "        self.inspect_property(properties)\n",
    "        \n",
    "        self._property_attributes = properties\n",
    "        # Store the properties in the StructureData node.\n",
    "        #self._parent.base.attributes.set('_property_attributes',{})\n",
    "        self._parent.base.attributes.set('_property_attributes',self._property_attributes)\n",
    "    \n",
    "    \n",
    "    def get_property_attribute(self, key):\n",
    "        # In AiiDA this could be self.base.attrs['properties'][key] or similar\n",
    "        return self._property_attributes[key]    \n",
    "    \n",
    "    # This function is never used:\n",
    "    @allow_no_calls_decorator\n",
    "    def set_property(self, pname=None, pvalue=None):\n",
    "        \n",
    "        if not pname in self._valid_properties:\n",
    "            raise NotImplementedError(f\"Property '{pname}' is not yet supported. Use the 'get_valid_properties' method to see the available properties.\")\n",
    "        \n",
    "        print('Setting {} to {}'.format(pname, str(pvalue)))\n",
    "        return self._set_property(self,pname=pname, pvalue=pvalue)\n",
    "    \n",
    "    def inspect_property(self,properties):\n",
    "        \"\"\"\n",
    "        Method used to understand if we are defining supported/unsupported properties. \n",
    "        Here there should be also the detection of custom properties, which \n",
    "        have a defined prefix.\n",
    "        \"\"\"\n",
    "        for pname,pvalue in properties.items():\n",
    "            if pname not in self.get_valid_properties():\n",
    "                raise NotImplementedError(f\"Property '{pname}' is not yet supported.\\nSupported properties are: {self.get_valid_properties()}\")\n",
    "            # custom properties:\n",
    "            #elif pname in self.get_valid_properties():\n",
    "            #    raise NotImplementedError(f\"Property '{pname}' is not yet supported.\\nSupported properties are: {self.get_valid_properties()}\")\n",
    "            elif not pvalue:\n",
    "                raise ValueError(f\"Property '{pname}' has not value provided.\")\n",
    "            elif len(pvalue)==0:\n",
    "                raise ValueError(f\"Property '{pname}' is empty.\")\n",
    "            elif not isinstance(pvalue, dict):\n",
    "                raise ValueError(f\"The '{pname}' value is not of the right type. Expected '{type(dict())}', received '{type(pvalue)}'.\")\n",
    "    \n",
    "    \n",
    "class StructureData_prototype(StructureData):\n",
    "    \n",
    "    \"\"\"\n",
    "    Extension of the StructureData class. \n",
    "    The main new feature is the possibility to store the properties associated to a given system.\n",
    "    For example it is possible to store magnetization, hubbard U and V, under the `properties` attribute.\n",
    "    This attribute is created when the StructureData instance is generated. \n",
    "    \"\"\"\n",
    "    \n",
    "    def __init__(\n",
    "        self, \n",
    "        cell=None,\n",
    "        pbc=None,\n",
    "        ase=None,\n",
    "        pymatgen=None,\n",
    "        pymatgen_structure=None,\n",
    "        pymatgen_molecule=None,\n",
    "        properties: Dict[str, Dict[str, Any]] = {},\n",
    "        **kwargs,) -> None:\n",
    "        \"\"\"\n",
    "        The '_property_attribute', has to be stored in self., not in cls. as in the first version of the prototype\n",
    "        Otherwise we have info in the cls, not in the self.\n",
    "        \"\"\"\n",
    "        if not isinstance(properties, dict):\n",
    "            raise ValueError(f\"The `properties` input is not of the right type. Expected '{type(dict())}', received '{type(properties)}'.\")\n",
    "        \n",
    "        super().__init__(\n",
    "            cell,\n",
    "            pbc,\n",
    "            ase,\n",
    "            pymatgen,\n",
    "            pymatgen_structure,\n",
    "            pymatgen_molecule,\n",
    "            **kwargs,\n",
    "        )\n",
    "        \n",
    "        # Private property attribute\n",
    "        self._property_attribute = PropertyCollector(parent=self, properties=properties)\n",
    "    \n",
    "    # Setting the properties attribute as immutable.\n",
    "    # The only drawback is that the `_properties_attribute` one can still be modified. \n",
    "    @property\n",
    "    def properties(self):\n",
    "        return self._property_attribute\n",
    "\n",
    "    @properties.setter\n",
    "    def properties(self,value):\n",
    "        raise AttributeError(\"Cannot change the value of a read-only attribute\")\n",
    "    \n",
    "        "
   ]
  },
  {
   "cell_type": "markdown",
   "metadata": {},
   "source": [
    "## next steps: \n",
    "These can be the commit message moreless.\n",
    "\n",
    "- DONE: block the change of `properties` in StructureData. HOW: with the setter... and _properties.\n",
    "- DONE: not allow the fake re-assignement of properties.pbc (it does not really change, but the user may think that he changed successfully the property).For example: set_property and _set_property does not change anything, but they also do not give errors if we call them directly. this is misledaing. HOW: adding the decorator to the two mentioned methods. \n",
    "- HOWEVER: not setting the fset, will make never possible to call the set_property method. so in the end it is not the frame that its working. ===> in principle we do not need such methods.\n",
    "- non supported properties are not excepted by the class. why? seems there is no more a check... understand why\n",
    "  - DONE: the problem is that we use the attributs only looping on the cls items. which of course does not contain other things excepts the supported properties. HOW: I added a check in the init of the PCollector. (def inspect_property(self,properties))\n",
    "  - DONE: however, I see that the valid properties are defined multiple times, as if we were running in a loop calling several times the `__new__` method. HOW: using a set() instead of a list(). not really solved, but it works fine.\n",
    "  - custom properties: check If it is popssible to do it easil;y or not qwith template metdhos.... like a general one CustomProperty.... or we allow the definition of a class... dangeous\n"
   ]
  },
  {
   "cell_type": "markdown",
   "metadata": {},
   "source": [
    "### Initialization and immutability\n",
    "\n",
    "#### Just the crystal structure:"
   ]
  },
  {
   "cell_type": "code",
   "execution_count": 159,
   "metadata": {},
   "outputs": [
    {
     "name": "stdout",
     "output_type": "stream",
     "text": [
      "[[3.5, 0.0, 0.0], [0.0, 3.5, 0.0], [0.0, 0.0, 3.5]]\n",
      "[<Site: kind name 'Li' @ 0.0,0.0,0.0>, <Site: kind name 'Li' @ 1.5,1.5,1.5>]\n",
      "[<Kind: name 'Li', symbol 'Li'>]\n",
      "(True, True, True)\n"
     ]
    }
   ],
   "source": [
    "from ase import Atoms\n",
    "\n",
    "unit_cell = [[3.5, 0.0, 0.0], [0.0, 3.5, 0.0], [0.0, 0.0, 3.5]]\n",
    "\n",
    "atoms = Atoms('LiLi', [[0.0, 0.0, 0.0],[1.5, 1.5, 1.5]], cell = [1,1,1])\n",
    "atoms.set_cell(unit_cell, scale_atoms=False)\n",
    "atoms.set_pbc([True,True,True])\n",
    "\n",
    "structure = StructureData(ase=atoms)\n",
    "\n",
    "print(structure.cell)\n",
    "print(structure.sites)\n",
    "print(structure.kinds)   # <== backward-compatibility\n",
    "print(structure.pbc)     # <== backward-compatibility"
   ]
  },
  {
   "cell_type": "markdown",
   "metadata": {},
   "source": [
    "#### Adding also properties:"
   ]
  },
  {
   "cell_type": "code",
   "execution_count": 140,
   "metadata": {},
   "outputs": [
    {
     "name": "stdout",
     "output_type": "stream",
     "text": [
      "[[3.5, 0.0, 0.0], [0.0, 3.5, 0.0], [0.0, 0.0, 3.5]]\n",
      "[<Site: kind name 'Li' @ 0.0,0.0,0.0>, <Site: kind name 'Li' @ 1.5,1.5,1.5>]\n",
      "(True, True, True)\n"
     ]
    }
   ],
   "source": [
    "structure = StructureData_prototype(\n",
    "        ase=atoms,\n",
    "        properties={\n",
    "                'pbc': {'value':[True,False,True]},\n",
    "                },\n",
    "        )\n",
    "\n",
    "print(structure.cell)\n",
    "print(structure.sites)\n",
    "print(structure.pbc)"
   ]
  },
  {
   "cell_type": "code",
   "execution_count": 141,
   "metadata": {},
   "outputs": [
    {
     "data": {
      "text/plain": [
       "Pbc(parent=<StructureData_prototype: uuid: faf8f216-f8f2-4bab-8d0a-2653da2956cf (unstored)>, value=[True, False, True])"
      ]
     },
     "execution_count": 141,
     "metadata": {},
     "output_type": "execute_result"
    }
   ],
   "source": [
    "structure.properties.pbc"
   ]
  },
  {
   "cell_type": "code",
   "execution_count": 142,
   "metadata": {},
   "outputs": [
    {
     "ename": "TypeError",
     "evalue": "\"Pbc\" is immutable and does not support item assignment",
     "output_type": "error",
     "traceback": [
      "\u001b[0;31m---------------------------------------------------------------------------\u001b[0m",
      "\u001b[0;31mTypeError\u001b[0m                                 Traceback (most recent call last)",
      "Cell \u001b[0;32mIn[142], line 1\u001b[0m\n\u001b[0;32m----> 1\u001b[0m \u001b[43mstructure\u001b[49m\u001b[38;5;241;43m.\u001b[39;49m\u001b[43mproperties\u001b[49m\u001b[38;5;241;43m.\u001b[39;49m\u001b[43mpbc\u001b[49m\u001b[38;5;241;43m.\u001b[39;49m\u001b[43mvalue\u001b[49m\u001b[38;5;241m=\u001b[39m\u001b[38;5;241m5\u001b[39m\n",
      "File \u001b[0;32m~/Envs/aiida-muonic/lib/python3.10/site-packages/pydantic/main.py:359\u001b[0m, in \u001b[0;36mpydantic.main.BaseModel.__setattr__\u001b[0;34m()\u001b[0m\n",
      "\u001b[0;31mTypeError\u001b[0m: \"Pbc\" is immutable and does not support item assignment"
     ]
    }
   ],
   "source": [
    "structure.properties.pbc.value=5"
   ]
  },
  {
   "cell_type": "code",
   "execution_count": 143,
   "metadata": {},
   "outputs": [
    {
     "ename": "AttributeError",
     "evalue": "Cannot change the value of a read-only attribute",
     "output_type": "error",
     "traceback": [
      "\u001b[0;31m---------------------------------------------------------------------------\u001b[0m",
      "\u001b[0;31mAttributeError\u001b[0m                            Traceback (most recent call last)",
      "Cell \u001b[0;32mIn[143], line 1\u001b[0m\n\u001b[0;32m----> 1\u001b[0m \u001b[43mstructure\u001b[49m\u001b[38;5;241;43m.\u001b[39;49m\u001b[43mproperties\u001b[49m \u001b[38;5;241m=\u001b[39m  \u001b[38;5;241m0\u001b[39m\n\u001b[1;32m      2\u001b[0m \u001b[38;5;28mprint\u001b[39m(structure\u001b[38;5;241m.\u001b[39mproperties)\n",
      "Cell \u001b[0;32mIn[138], line 124\u001b[0m, in \u001b[0;36mStructureData_prototype.properties\u001b[0;34m(self, value)\u001b[0m\n\u001b[1;32m    122\u001b[0m \u001b[38;5;129m@properties\u001b[39m\u001b[38;5;241m.\u001b[39msetter\n\u001b[1;32m    123\u001b[0m \u001b[38;5;28;01mdef\u001b[39;00m \u001b[38;5;21mproperties\u001b[39m(\u001b[38;5;28mself\u001b[39m,value):\n\u001b[0;32m--> 124\u001b[0m     \u001b[38;5;28;01mraise\u001b[39;00m \u001b[38;5;167;01mAttributeError\u001b[39;00m(\u001b[38;5;124m\"\u001b[39m\u001b[38;5;124mCannot change the value of a read-only attribute\u001b[39m\u001b[38;5;124m\"\u001b[39m)\n",
      "\u001b[0;31mAttributeError\u001b[0m: Cannot change the value of a read-only attribute"
     ]
    }
   ],
   "source": [
    "structure.properties =  0\n",
    "print(structure.properties)"
   ]
  },
  {
   "cell_type": "markdown",
   "metadata": {},
   "source": [
    "### Get the lists of supported and defined properties"
   ]
  },
  {
   "cell_type": "code",
   "execution_count": 144,
   "metadata": {},
   "outputs": [
    {
     "data": {
      "text/plain": [
       "['pbc']"
      ]
     },
     "execution_count": 144,
     "metadata": {},
     "output_type": "execute_result"
    }
   ],
   "source": [
    "structure.properties.get_defined_properties()"
   ]
  },
  {
   "cell_type": "code",
   "execution_count": 145,
   "metadata": {},
   "outputs": [
    {
     "data": {
      "text/plain": [
       "{'pbc'}"
      ]
     },
     "execution_count": 145,
     "metadata": {},
     "output_type": "execute_result"
    }
   ],
   "source": [
    "structure.properties.get_valid_properties()"
   ]
  },
  {
   "cell_type": "markdown",
   "metadata": {},
   "source": [
    "#### Trying to set some unsupported property:"
   ]
  },
  {
   "cell_type": "code",
   "execution_count": 146,
   "metadata": {},
   "outputs": [
    {
     "ename": "NotImplementedError",
     "evalue": "Property 'unsupported_property' is not yet supported.\nSupported properties are: {'pbc'}",
     "output_type": "error",
     "traceback": [
      "\u001b[0;31m---------------------------------------------------------------------------\u001b[0m",
      "\u001b[0;31mNotImplementedError\u001b[0m                       Traceback (most recent call last)",
      "Cell \u001b[0;32mIn[146], line 1\u001b[0m\n\u001b[0;32m----> 1\u001b[0m structure \u001b[38;5;241m=\u001b[39m \u001b[43mStructureData_prototype\u001b[49m\u001b[43m(\u001b[49m\n\u001b[1;32m      2\u001b[0m \u001b[43m        \u001b[49m\u001b[43mase\u001b[49m\u001b[38;5;241;43m=\u001b[39;49m\u001b[43matoms\u001b[49m\u001b[43m,\u001b[49m\n\u001b[1;32m      3\u001b[0m \u001b[43m        \u001b[49m\u001b[43mproperties\u001b[49m\u001b[38;5;241;43m=\u001b[39;49m\u001b[43m{\u001b[49m\n\u001b[1;32m      4\u001b[0m \u001b[43m                \u001b[49m\u001b[38;5;124;43m'\u001b[39;49m\u001b[38;5;124;43mpbc\u001b[39;49m\u001b[38;5;124;43m'\u001b[39;49m\u001b[43m:\u001b[49m\u001b[43m \u001b[49m\u001b[43m{\u001b[49m\u001b[38;5;124;43m'\u001b[39;49m\u001b[38;5;124;43mvalue\u001b[39;49m\u001b[38;5;124;43m'\u001b[39;49m\u001b[43m:\u001b[49m\u001b[43m[\u001b[49m\u001b[38;5;28;43;01mTrue\u001b[39;49;00m\u001b[43m,\u001b[49m\u001b[38;5;28;43;01mFalse\u001b[39;49;00m\u001b[43m,\u001b[49m\u001b[38;5;28;43;01mTrue\u001b[39;49;00m\u001b[43m]\u001b[49m\u001b[43m}\u001b[49m\u001b[43m,\u001b[49m\n\u001b[1;32m      5\u001b[0m \u001b[43m                \u001b[49m\u001b[38;5;124;43m'\u001b[39;49m\u001b[38;5;124;43munsupported_property\u001b[39;49m\u001b[38;5;124;43m'\u001b[39;49m\u001b[43m:\u001b[49m\u001b[43m{\u001b[49m\u001b[43m}\u001b[49m\u001b[43m \u001b[49m\n\u001b[1;32m      6\u001b[0m \u001b[43m        \u001b[49m\u001b[43m}\u001b[49m\u001b[43m)\u001b[49m\n",
      "Cell \u001b[0;32mIn[138], line 114\u001b[0m, in \u001b[0;36mStructureData_prototype.__init__\u001b[0;34m(self, cell, pbc, ase, pymatgen, pymatgen_structure, pymatgen_molecule, properties, **kwargs)\u001b[0m\n\u001b[1;32m    103\u001b[0m \u001b[38;5;28msuper\u001b[39m()\u001b[38;5;241m.\u001b[39m\u001b[38;5;21m__init__\u001b[39m(\n\u001b[1;32m    104\u001b[0m     cell,\n\u001b[1;32m    105\u001b[0m     pbc,\n\u001b[0;32m   (...)\u001b[0m\n\u001b[1;32m    110\u001b[0m     \u001b[38;5;241m*\u001b[39m\u001b[38;5;241m*\u001b[39mkwargs,\n\u001b[1;32m    111\u001b[0m )\n\u001b[1;32m    113\u001b[0m \u001b[38;5;66;03m# Private property attribute\u001b[39;00m\n\u001b[0;32m--> 114\u001b[0m \u001b[38;5;28mself\u001b[39m\u001b[38;5;241m.\u001b[39m_property_attribute \u001b[38;5;241m=\u001b[39m \u001b[43mPropertyCollector\u001b[49m\u001b[43m(\u001b[49m\u001b[43mparent\u001b[49m\u001b[38;5;241;43m=\u001b[39;49m\u001b[38;5;28;43mself\u001b[39;49m\u001b[43m,\u001b[49m\u001b[43m \u001b[49m\u001b[43mproperties\u001b[49m\u001b[38;5;241;43m=\u001b[39;49m\u001b[43mproperties\u001b[49m\u001b[43m)\u001b[49m\n",
      "Cell \u001b[0;32mIn[138], line 42\u001b[0m, in \u001b[0;36mPropertyCollector.__init__\u001b[0;34m(self, parent, properties)\u001b[0m\n\u001b[1;32m     38\u001b[0m \u001b[38;5;66;03m# properties: Dictionary containing the properties. The key is the name of the property and the value                                                           \u001b[39;00m\n\u001b[1;32m     39\u001b[0m \u001b[38;5;66;03m# is an instance of the corresponding Property subclass value.\u001b[39;00m\n\u001b[1;32m     40\u001b[0m \u001b[38;5;28msuper\u001b[39m()\u001b[38;5;241m.\u001b[39m\u001b[38;5;21m__init__\u001b[39m()\n\u001b[0;32m---> 42\u001b[0m \u001b[38;5;28;43mself\u001b[39;49m\u001b[38;5;241;43m.\u001b[39;49m\u001b[43minspect_property\u001b[49m\u001b[43m(\u001b[49m\u001b[43mproperties\u001b[49m\u001b[43m)\u001b[49m\n\u001b[1;32m     44\u001b[0m \u001b[38;5;28mself\u001b[39m\u001b[38;5;241m.\u001b[39m_property_attributes \u001b[38;5;241m=\u001b[39m properties\n\u001b[1;32m     45\u001b[0m \u001b[38;5;66;03m# Store the properties in the StructureData node.\u001b[39;00m\n\u001b[1;32m     46\u001b[0m \u001b[38;5;66;03m#self._parent.base.attributes.set('_property_attributes',{})\u001b[39;00m\n",
      "Cell \u001b[0;32mIn[138], line 72\u001b[0m, in \u001b[0;36mPropertyCollector.inspect_property\u001b[0;34m(self, properties)\u001b[0m\n\u001b[1;32m     70\u001b[0m \u001b[38;5;28;01mfor\u001b[39;00m pname,pvalue \u001b[38;5;129;01min\u001b[39;00m properties\u001b[38;5;241m.\u001b[39mitems():\n\u001b[1;32m     71\u001b[0m     \u001b[38;5;28;01mif\u001b[39;00m pname \u001b[38;5;129;01mnot\u001b[39;00m \u001b[38;5;129;01min\u001b[39;00m \u001b[38;5;28mself\u001b[39m\u001b[38;5;241m.\u001b[39mget_valid_properties():\n\u001b[0;32m---> 72\u001b[0m         \u001b[38;5;28;01mraise\u001b[39;00m \u001b[38;5;167;01mNotImplementedError\u001b[39;00m(\u001b[38;5;124mf\u001b[39m\u001b[38;5;124m\"\u001b[39m\u001b[38;5;124mProperty \u001b[39m\u001b[38;5;124m'\u001b[39m\u001b[38;5;132;01m{\u001b[39;00mpname\u001b[38;5;132;01m}\u001b[39;00m\u001b[38;5;124m'\u001b[39m\u001b[38;5;124m is not yet supported.\u001b[39m\u001b[38;5;130;01m\\n\u001b[39;00m\u001b[38;5;124mSupported properties are: \u001b[39m\u001b[38;5;132;01m{\u001b[39;00m\u001b[38;5;28mself\u001b[39m\u001b[38;5;241m.\u001b[39mget_valid_properties()\u001b[38;5;132;01m}\u001b[39;00m\u001b[38;5;124m\"\u001b[39m)\n\u001b[1;32m     73\u001b[0m     \u001b[38;5;28;01melif\u001b[39;00m \u001b[38;5;129;01mnot\u001b[39;00m pvalue:\n\u001b[1;32m     74\u001b[0m         \u001b[38;5;28;01mraise\u001b[39;00m \u001b[38;5;167;01mValueError\u001b[39;00m(\u001b[38;5;124mf\u001b[39m\u001b[38;5;124m\"\u001b[39m\u001b[38;5;124mProperty \u001b[39m\u001b[38;5;124m'\u001b[39m\u001b[38;5;132;01m{\u001b[39;00mpname\u001b[38;5;132;01m}\u001b[39;00m\u001b[38;5;124m'\u001b[39m\u001b[38;5;124m has not value provided.\u001b[39m\u001b[38;5;124m\"\u001b[39m)\n",
      "\u001b[0;31mNotImplementedError\u001b[0m: Property 'unsupported_property' is not yet supported.\nSupported properties are: {'pbc'}"
     ]
    }
   ],
   "source": [
    "structure = StructureData_prototype(\n",
    "        ase=atoms,\n",
    "        properties={\n",
    "                'pbc': {'value':[True,False,True]},\n",
    "                'unsupported_property':{} \n",
    "        })"
   ]
  },
  {
   "cell_type": "markdown",
   "metadata": {},
   "source": [
    "#### Custom properties definition:\n",
    "\n",
    "How should be the format? \n",
    "\n",
    "- something that can be stored in the database\n",
    "- some template? maybe we should provide a class name CustomProperty, which has already pre-defined inputs..."
   ]
  },
  {
   "cell_type": "code",
   "execution_count": null,
   "metadata": {},
   "outputs": [],
   "source": []
  },
  {
   "cell_type": "markdown",
   "metadata": {},
   "source": [
    "#### Type checking for the `properties` input and its content"
   ]
  },
  {
   "cell_type": "code",
   "execution_count": 147,
   "metadata": {},
   "outputs": [
    {
     "ename": "ValueError",
     "evalue": "The `properties` input is not of the right type. Expected '<class 'dict'>', received '<class 'list'>'.",
     "output_type": "error",
     "traceback": [
      "\u001b[0;31m---------------------------------------------------------------------------\u001b[0m",
      "\u001b[0;31mValueError\u001b[0m                                Traceback (most recent call last)",
      "Cell \u001b[0;32mIn[147], line 1\u001b[0m\n\u001b[0;32m----> 1\u001b[0m structure \u001b[38;5;241m=\u001b[39m \u001b[43mStructureData_prototype\u001b[49m\u001b[43m(\u001b[49m\n\u001b[1;32m      2\u001b[0m \u001b[43m        \u001b[49m\u001b[43mase\u001b[49m\u001b[38;5;241;43m=\u001b[39;49m\u001b[43matoms\u001b[49m\u001b[43m,\u001b[49m\n\u001b[1;32m      3\u001b[0m \u001b[43m        \u001b[49m\u001b[43mproperties\u001b[49m\u001b[38;5;241;43m=\u001b[39;49m\u001b[43m[\u001b[49m\u001b[43m(\u001b[49m\u001b[38;5;124;43m'\u001b[39;49m\u001b[38;5;124;43mpbc\u001b[39;49m\u001b[38;5;124;43m'\u001b[39;49m\u001b[43m,\u001b[49m\u001b[43m{\u001b[49m\u001b[38;5;124;43m'\u001b[39;49m\u001b[38;5;124;43mvalue\u001b[39;49m\u001b[38;5;124;43m'\u001b[39;49m\u001b[43m:\u001b[49m\u001b[43m[\u001b[49m\u001b[38;5;28;43;01mTrue\u001b[39;49;00m\u001b[43m,\u001b[49m\u001b[38;5;28;43;01mFalse\u001b[39;49;00m\u001b[43m,\u001b[49m\u001b[38;5;28;43;01mTrue\u001b[39;49;00m\u001b[43m]\u001b[49m\u001b[43m}\u001b[49m\u001b[43m)\u001b[49m\u001b[43m]\u001b[49m\u001b[43m)\u001b[49m\n",
      "Cell \u001b[0;32mIn[138], line 101\u001b[0m, in \u001b[0;36mStructureData_prototype.__init__\u001b[0;34m(self, cell, pbc, ase, pymatgen, pymatgen_structure, pymatgen_molecule, properties, **kwargs)\u001b[0m\n\u001b[1;32m     96\u001b[0m \u001b[38;5;250m\u001b[39m\u001b[38;5;124;03m\"\"\"\u001b[39;00m\n\u001b[1;32m     97\u001b[0m \u001b[38;5;124;03mThe '_property_attribute', has to be stored in self., not in cls. as in the first version of the prototype\u001b[39;00m\n\u001b[1;32m     98\u001b[0m \u001b[38;5;124;03mOtherwise we have info in the cls, not in the self.\u001b[39;00m\n\u001b[1;32m     99\u001b[0m \u001b[38;5;124;03m\"\"\"\u001b[39;00m\n\u001b[1;32m    100\u001b[0m \u001b[38;5;28;01mif\u001b[39;00m \u001b[38;5;129;01mnot\u001b[39;00m \u001b[38;5;28misinstance\u001b[39m(properties, \u001b[38;5;28mdict\u001b[39m):\n\u001b[0;32m--> 101\u001b[0m     \u001b[38;5;28;01mraise\u001b[39;00m \u001b[38;5;167;01mValueError\u001b[39;00m(\u001b[38;5;124mf\u001b[39m\u001b[38;5;124m\"\u001b[39m\u001b[38;5;124mThe `properties` input is not of the right type. Expected \u001b[39m\u001b[38;5;124m'\u001b[39m\u001b[38;5;132;01m{\u001b[39;00m\u001b[38;5;28mtype\u001b[39m(\u001b[38;5;28mdict\u001b[39m())\u001b[38;5;132;01m}\u001b[39;00m\u001b[38;5;124m'\u001b[39m\u001b[38;5;124m, received \u001b[39m\u001b[38;5;124m'\u001b[39m\u001b[38;5;132;01m{\u001b[39;00m\u001b[38;5;28mtype\u001b[39m(properties)\u001b[38;5;132;01m}\u001b[39;00m\u001b[38;5;124m'\u001b[39m\u001b[38;5;124m.\u001b[39m\u001b[38;5;124m\"\u001b[39m)\n\u001b[1;32m    103\u001b[0m \u001b[38;5;28msuper\u001b[39m()\u001b[38;5;241m.\u001b[39m\u001b[38;5;21m__init__\u001b[39m(\n\u001b[1;32m    104\u001b[0m     cell,\n\u001b[1;32m    105\u001b[0m     pbc,\n\u001b[0;32m   (...)\u001b[0m\n\u001b[1;32m    110\u001b[0m     \u001b[38;5;241m*\u001b[39m\u001b[38;5;241m*\u001b[39mkwargs,\n\u001b[1;32m    111\u001b[0m )\n\u001b[1;32m    113\u001b[0m \u001b[38;5;66;03m# Private property attribute\u001b[39;00m\n",
      "\u001b[0;31mValueError\u001b[0m: The `properties` input is not of the right type. Expected '<class 'dict'>', received '<class 'list'>'."
     ]
    }
   ],
   "source": [
    "structure = StructureData_prototype(\n",
    "        ase=atoms,\n",
    "        properties=[('pbc',{'value':[True,False,True]})])"
   ]
  },
  {
   "cell_type": "code",
   "execution_count": 148,
   "metadata": {},
   "outputs": [
    {
     "ename": "ValueError",
     "evalue": "The 'pbc' value is not of the right type. Expected '<class 'dict'>', received '<class 'list'>'.",
     "output_type": "error",
     "traceback": [
      "\u001b[0;31m---------------------------------------------------------------------------\u001b[0m",
      "\u001b[0;31mValueError\u001b[0m                                Traceback (most recent call last)",
      "Cell \u001b[0;32mIn[148], line 1\u001b[0m\n\u001b[0;32m----> 1\u001b[0m structure \u001b[38;5;241m=\u001b[39m \u001b[43mStructureData_prototype\u001b[49m\u001b[43m(\u001b[49m\n\u001b[1;32m      2\u001b[0m \u001b[43m        \u001b[49m\u001b[43mase\u001b[49m\u001b[38;5;241;43m=\u001b[39;49m\u001b[43matoms\u001b[49m\u001b[43m,\u001b[49m\n\u001b[1;32m      3\u001b[0m \u001b[43m        \u001b[49m\u001b[43mproperties\u001b[49m\u001b[38;5;241;43m=\u001b[39;49m\u001b[43m{\u001b[49m\n\u001b[1;32m      4\u001b[0m \u001b[43m                \u001b[49m\u001b[38;5;124;43m'\u001b[39;49m\u001b[38;5;124;43mpbc\u001b[39;49m\u001b[38;5;124;43m'\u001b[39;49m\u001b[43m:\u001b[49m\u001b[43m \u001b[49m\u001b[43m[\u001b[49m\u001b[43m{\u001b[49m\u001b[38;5;124;43m'\u001b[39;49m\u001b[38;5;124;43mvalue\u001b[39;49m\u001b[38;5;124;43m'\u001b[39;49m\u001b[43m:\u001b[49m\u001b[43m[\u001b[49m\u001b[38;5;28;43;01mTrue\u001b[39;49;00m\u001b[43m,\u001b[49m\u001b[38;5;28;43;01mFalse\u001b[39;49;00m\u001b[43m,\u001b[49m\u001b[38;5;28;43;01mTrue\u001b[39;49;00m\u001b[43m]\u001b[49m\u001b[43m}\u001b[49m\u001b[43m]\u001b[49m\u001b[43m,\u001b[49m\n\u001b[1;32m      5\u001b[0m \u001b[43m        \u001b[49m\u001b[43m}\u001b[49m\u001b[43m)\u001b[49m\n",
      "Cell \u001b[0;32mIn[138], line 114\u001b[0m, in \u001b[0;36mStructureData_prototype.__init__\u001b[0;34m(self, cell, pbc, ase, pymatgen, pymatgen_structure, pymatgen_molecule, properties, **kwargs)\u001b[0m\n\u001b[1;32m    103\u001b[0m \u001b[38;5;28msuper\u001b[39m()\u001b[38;5;241m.\u001b[39m\u001b[38;5;21m__init__\u001b[39m(\n\u001b[1;32m    104\u001b[0m     cell,\n\u001b[1;32m    105\u001b[0m     pbc,\n\u001b[0;32m   (...)\u001b[0m\n\u001b[1;32m    110\u001b[0m     \u001b[38;5;241m*\u001b[39m\u001b[38;5;241m*\u001b[39mkwargs,\n\u001b[1;32m    111\u001b[0m )\n\u001b[1;32m    113\u001b[0m \u001b[38;5;66;03m# Private property attribute\u001b[39;00m\n\u001b[0;32m--> 114\u001b[0m \u001b[38;5;28mself\u001b[39m\u001b[38;5;241m.\u001b[39m_property_attribute \u001b[38;5;241m=\u001b[39m \u001b[43mPropertyCollector\u001b[49m\u001b[43m(\u001b[49m\u001b[43mparent\u001b[49m\u001b[38;5;241;43m=\u001b[39;49m\u001b[38;5;28;43mself\u001b[39;49m\u001b[43m,\u001b[49m\u001b[43m \u001b[49m\u001b[43mproperties\u001b[49m\u001b[38;5;241;43m=\u001b[39;49m\u001b[43mproperties\u001b[49m\u001b[43m)\u001b[49m\n",
      "Cell \u001b[0;32mIn[138], line 42\u001b[0m, in \u001b[0;36mPropertyCollector.__init__\u001b[0;34m(self, parent, properties)\u001b[0m\n\u001b[1;32m     38\u001b[0m \u001b[38;5;66;03m# properties: Dictionary containing the properties. The key is the name of the property and the value                                                           \u001b[39;00m\n\u001b[1;32m     39\u001b[0m \u001b[38;5;66;03m# is an instance of the corresponding Property subclass value.\u001b[39;00m\n\u001b[1;32m     40\u001b[0m \u001b[38;5;28msuper\u001b[39m()\u001b[38;5;241m.\u001b[39m\u001b[38;5;21m__init__\u001b[39m()\n\u001b[0;32m---> 42\u001b[0m \u001b[38;5;28;43mself\u001b[39;49m\u001b[38;5;241;43m.\u001b[39;49m\u001b[43minspect_property\u001b[49m\u001b[43m(\u001b[49m\u001b[43mproperties\u001b[49m\u001b[43m)\u001b[49m\n\u001b[1;32m     44\u001b[0m \u001b[38;5;28mself\u001b[39m\u001b[38;5;241m.\u001b[39m_property_attributes \u001b[38;5;241m=\u001b[39m properties\n\u001b[1;32m     45\u001b[0m \u001b[38;5;66;03m# Store the properties in the StructureData node.\u001b[39;00m\n\u001b[1;32m     46\u001b[0m \u001b[38;5;66;03m#self._parent.base.attributes.set('_property_attributes',{})\u001b[39;00m\n",
      "Cell \u001b[0;32mIn[138], line 78\u001b[0m, in \u001b[0;36mPropertyCollector.inspect_property\u001b[0;34m(self, properties)\u001b[0m\n\u001b[1;32m     76\u001b[0m     \u001b[38;5;28;01mraise\u001b[39;00m \u001b[38;5;167;01mValueError\u001b[39;00m(\u001b[38;5;124mf\u001b[39m\u001b[38;5;124m\"\u001b[39m\u001b[38;5;124mProperty \u001b[39m\u001b[38;5;124m'\u001b[39m\u001b[38;5;132;01m{\u001b[39;00mpname\u001b[38;5;132;01m}\u001b[39;00m\u001b[38;5;124m'\u001b[39m\u001b[38;5;124m is empty.\u001b[39m\u001b[38;5;124m\"\u001b[39m)\n\u001b[1;32m     77\u001b[0m \u001b[38;5;28;01melif\u001b[39;00m \u001b[38;5;129;01mnot\u001b[39;00m \u001b[38;5;28misinstance\u001b[39m(pvalue, \u001b[38;5;28mdict\u001b[39m):\n\u001b[0;32m---> 78\u001b[0m     \u001b[38;5;28;01mraise\u001b[39;00m \u001b[38;5;167;01mValueError\u001b[39;00m(\u001b[38;5;124mf\u001b[39m\u001b[38;5;124m\"\u001b[39m\u001b[38;5;124mThe \u001b[39m\u001b[38;5;124m'\u001b[39m\u001b[38;5;132;01m{\u001b[39;00mpname\u001b[38;5;132;01m}\u001b[39;00m\u001b[38;5;124m'\u001b[39m\u001b[38;5;124m value is not of the right type. Expected \u001b[39m\u001b[38;5;124m'\u001b[39m\u001b[38;5;132;01m{\u001b[39;00m\u001b[38;5;28mtype\u001b[39m(\u001b[38;5;28mdict\u001b[39m())\u001b[38;5;132;01m}\u001b[39;00m\u001b[38;5;124m'\u001b[39m\u001b[38;5;124m, received \u001b[39m\u001b[38;5;124m'\u001b[39m\u001b[38;5;132;01m{\u001b[39;00m\u001b[38;5;28mtype\u001b[39m(pvalue)\u001b[38;5;132;01m}\u001b[39;00m\u001b[38;5;124m'\u001b[39m\u001b[38;5;124m.\u001b[39m\u001b[38;5;124m\"\u001b[39m)\n",
      "\u001b[0;31mValueError\u001b[0m: The 'pbc' value is not of the right type. Expected '<class 'dict'>', received '<class 'list'>'."
     ]
    }
   ],
   "source": [
    "structure = StructureData_prototype(\n",
    "        ase=atoms,\n",
    "        properties={\n",
    "                'pbc': [{'value':[True,False,True]}],\n",
    "        })"
   ]
  },
  {
   "cell_type": "markdown",
   "metadata": {},
   "source": [
    "### Using the classmethod `from_string` to obtain the right pbc format\n",
    "\n",
    "We have to call it from an instance of the `StructureData`. \n",
    "This is due to the fact that the `properties` attribute is properly created only when we create and instance of the StructureData."
   ]
  },
  {
   "cell_type": "code",
   "execution_count": 151,
   "metadata": {},
   "outputs": [
    {
     "name": "stdout",
     "output_type": "stream",
     "text": [
      "{'value': [True, True, True]}\n",
      "{'value': [False, False, False]}\n"
     ]
    }
   ],
   "source": [
    "print(StructureData_prototype().properties.pbc.from_string(\"3D\"))\n",
    "print(StructureData_prototype().properties.pbc.from_string(\"0D\"))"
   ]
  },
  {
   "cell_type": "code",
   "execution_count": null,
   "metadata": {},
   "outputs": [],
   "source": []
  },
  {
   "cell_type": "code",
   "execution_count": null,
   "metadata": {},
   "outputs": [],
   "source": []
  },
  {
   "cell_type": "code",
   "execution_count": null,
   "metadata": {},
   "outputs": [],
   "source": []
  },
  {
   "cell_type": "code",
   "execution_count": null,
   "metadata": {},
   "outputs": [],
   "source": []
  },
  {
   "cell_type": "code",
   "execution_count": null,
   "metadata": {},
   "outputs": [],
   "source": []
  },
  {
   "cell_type": "code",
   "execution_count": null,
   "metadata": {},
   "outputs": [],
   "source": []
  },
  {
   "cell_type": "code",
   "execution_count": null,
   "metadata": {},
   "outputs": [],
   "source": []
  },
  {
   "cell_type": "code",
   "execution_count": null,
   "metadata": {},
   "outputs": [],
   "source": []
  }
 ],
 "metadata": {
  "kernelspec": {
   "display_name": "base",
   "language": "python",
   "name": "python3"
  },
  "language_info": {
   "codemirror_mode": {
    "name": "ipython",
    "version": 3
   },
   "file_extension": ".py",
   "mimetype": "text/x-python",
   "name": "python",
   "nbconvert_exporter": "python",
   "pygments_lexer": "ipython3",
   "version": "3.10.11"
  },
  "orig_nbformat": 4
 },
 "nbformat": 4,
 "nbformat_minor": 2
}
