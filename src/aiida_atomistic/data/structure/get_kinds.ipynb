{
 "cells": [
  {
   "cell_type": "code",
   "execution_count": 1,
   "metadata": {},
   "outputs": [
    {
     "name": "stdout",
     "output_type": "stream",
     "text": [
      "\u001b[93m\u001b[1mWarning\u001b[0m: \u001b[22mYou are currently using a post release development version of AiiDA: 2.4.0.post0\u001b[0m\n",
      "\u001b[93m\u001b[1mWarning\u001b[0m: \u001b[22mBe aware that this is not recommended for production and is not officially supported.\u001b[0m\n",
      "\u001b[93m\u001b[1mWarning\u001b[0m: \u001b[22mDatabases used with this version may not be compatible with future releases of AiiDA\u001b[0m\n",
      "\u001b[93m\u001b[1mWarning\u001b[0m: \u001b[22mas you might not be able to automatically migrate your data.\n",
      "\u001b[0m\n"
     ]
    },
    {
     "data": {
      "text/plain": [
       "Profile<uuid='827a33dde1bc4d498af8e022f9e9dece' name='mikibonacci'>"
      ]
     },
     "execution_count": 1,
     "metadata": {},
     "output_type": "execute_result"
    }
   ],
   "source": [
    "from aiida import orm, load_profile\n",
    "load_profile()"
   ]
  },
  {
   "cell_type": "markdown",
   "metadata": {},
   "source": [
    "# The get_kinds methods for intra-site properties and float values\n",
    "\n",
    "This is a playground to develop the get_kinds method... the problem here is to have the property value unified."
   ]
  },
  {
   "cell_type": "code",
   "execution_count": 2,
   "metadata": {},
   "outputs": [],
   "source": [
    "from aiida_atomistic.data.structure import StructureData"
   ]
  },
  {
   "cell_type": "code",
   "execution_count": 29,
   "metadata": {},
   "outputs": [],
   "source": [
    "properties = {\n",
    "    \"cell\":{\"value\":[[1.0,0,0],[0,1,0],[0,0,1]]},\n",
    "    \"pbc\":{\"value\":[True,False,True]},\n",
    "    \"positions\":{\n",
    "        \"value\":[[1,1,1],[2,3,3],[3,4,5],[1,2,3]],\n",
    "        },\n",
    "    \"symbols\":{\"value\":[\"He\",\"Cu\",\"He\",\"He\"]},\n",
    "    #\"mass\":{\"value\":[1.551,9,1.5512,2],},\n",
    "    \"mass\":{\"value\":None,},\n",
    "    \"charge\":{\"value\":[1,0,1,0]}\n",
    "    }"
   ]
  },
  {
   "cell_type": "code",
   "execution_count": 30,
   "metadata": {},
   "outputs": [
    {
     "ename": "ValidationError",
     "evalue": "1 validation error for Pbc\nvalue\n  ensure this value has at most 3 items (type=value_error.list.max_items; limit_value=3)",
     "output_type": "error",
     "traceback": [
      "\u001b[0;31m---------------------------------------------------------------------------\u001b[0m",
      "\u001b[0;31mValidationError\u001b[0m                           Traceback (most recent call last)",
      "Cell \u001b[0;32mIn[30], line 1\u001b[0m\n\u001b[0;32m----> 1\u001b[0m structure \u001b[38;5;241m=\u001b[39m \u001b[43mStructureData\u001b[49m\u001b[43m(\u001b[49m\u001b[43mproperties\u001b[49m\u001b[43m \u001b[49m\u001b[38;5;241;43m=\u001b[39;49m\u001b[43m \u001b[49m\u001b[43mproperties\u001b[49m\u001b[43m)\u001b[49m\n",
      "File \u001b[0;32m~/Envs/aiida-muonic/codes/aiida-atomistic/src/aiida_atomistic/data/structure/__init__.py:763\u001b[0m, in \u001b[0;36mStructureData.__init__\u001b[0;34m(self, ase, pymatgen, pymatgen_structure, pymatgen_molecule, properties, **kwargs)\u001b[0m\n\u001b[1;32m    759\u001b[0m         \u001b[38;5;28mself\u001b[39m\u001b[38;5;241m.\u001b[39mset_pymatgen_molecule(pymatgen_molecule)\n\u001b[1;32m    761\u001b[0m \u001b[38;5;28;01melse\u001b[39;00m:\n\u001b[1;32m    762\u001b[0m     \u001b[38;5;66;03m# Private property attribute\u001b[39;00m\n\u001b[0;32m--> 763\u001b[0m     \u001b[38;5;28mself\u001b[39m\u001b[38;5;241m.\u001b[39m_property_attribute \u001b[38;5;241m=\u001b[39m \u001b[43mPropertyCollector\u001b[49m\u001b[43m(\u001b[49m\u001b[43mparent\u001b[49m\u001b[38;5;241;43m=\u001b[39;49m\u001b[38;5;28;43mself\u001b[39;49m\u001b[43m,\u001b[49m\u001b[43m \u001b[49m\u001b[43mproperties\u001b[49m\u001b[38;5;241;43m=\u001b[39;49m\u001b[43mproperties\u001b[49m\u001b[43m)\u001b[49m\n",
      "File \u001b[0;32m~/Envs/aiida-muonic/codes/aiida-atomistic/src/aiida_atomistic/data/structure/properties/__init__.py:100\u001b[0m, in \u001b[0;36mPropertyCollector.__init__\u001b[0;34m(self, parent, properties)\u001b[0m\n\u001b[1;32m     97\u001b[0m \u001b[38;5;28;01mif\u001b[39;00m \u001b[38;5;129;01mnot\u001b[39;00m \u001b[38;5;28mself\u001b[39m\u001b[38;5;241m.\u001b[39m_parent\u001b[38;5;241m.\u001b[39mis_stored:\n\u001b[1;32m     98\u001b[0m     \u001b[38;5;28mself\u001b[39m\u001b[38;5;241m.\u001b[39m_parent\u001b[38;5;241m.\u001b[39mbase\u001b[38;5;241m.\u001b[39mattributes\u001b[38;5;241m.\u001b[39mset(\u001b[38;5;124m'\u001b[39m\u001b[38;5;124m_property_attributes\u001b[39m\u001b[38;5;124m'\u001b[39m,\u001b[38;5;28mself\u001b[39m\u001b[38;5;241m.\u001b[39m_property_attributes)\n\u001b[0;32m--> 100\u001b[0m \u001b[38;5;28;43mself\u001b[39;49m\u001b[38;5;241;43m.\u001b[39;49m\u001b[43m_inspect_properties\u001b[49m\u001b[43m(\u001b[49m\u001b[43mproperties\u001b[49m\u001b[43m)\u001b[49m\n",
      "File \u001b[0;32m~/Envs/aiida-muonic/codes/aiida-atomistic/src/aiida_atomistic/data/structure/properties/__init__.py:142\u001b[0m, in \u001b[0;36mPropertyCollector._inspect_properties\u001b[0;34m(self, properties)\u001b[0m\n\u001b[1;32m    134\u001b[0m \u001b[38;5;28;01melse\u001b[39;00m:\n\u001b[1;32m    135\u001b[0m \u001b[38;5;250m    \u001b[39m\u001b[38;5;124;03m\"\"\"\u001b[39;00m\n\u001b[1;32m    136\u001b[0m \u001b[38;5;124;03m    Using the pydantic validation:\u001b[39;00m\n\u001b[1;32m    137\u001b[0m \u001b[38;5;124;03m    the following `getattr` call is done as we want to initialise the properties, in such a way to have `pydantic` validation.\u001b[39;00m\n\u001b[0;32m   (...)\u001b[0m\n\u001b[1;32m    140\u001b[0m \u001b[38;5;124;03m    The fact is that the `PropertyMixinMetaclass` only define the fget and fset methods, without using them.\u001b[39;00m\n\u001b[1;32m    141\u001b[0m \u001b[38;5;124;03m    \"\"\"\u001b[39;00m\n\u001b[0;32m--> 142\u001b[0m     \u001b[38;5;28;43mgetattr\u001b[39;49m\u001b[43m(\u001b[49m\u001b[38;5;28;43mself\u001b[39;49m\u001b[43m,\u001b[49m\u001b[43mpname\u001b[49m\u001b[43m)\u001b[49m\n",
      "File \u001b[0;32m~/Envs/aiida-muonic/codes/aiida-atomistic/src/aiida_atomistic/data/structure/properties/property_utils.py:107\u001b[0m, in \u001b[0;36mPropertyMixinMetaclass.__new__.<locals>.<lambda>\u001b[0;34m(self, type_hint, attr)\u001b[0m\n\u001b[1;32m    105\u001b[0m \u001b[38;5;28;01massert\u001b[39;00m \u001b[38;5;28missubclass\u001b[39m(type_hint, BaseProperty)\n\u001b[1;32m    106\u001b[0m \u001b[38;5;28mcls\u001b[39m\u001b[38;5;241m.\u001b[39m_valid_properties\u001b[38;5;241m.\u001b[39madd(attr)\n\u001b[0;32m--> 107\u001b[0m func_get \u001b[38;5;241m=\u001b[39m \u001b[38;5;28;01mlambda\u001b[39;00m \u001b[38;5;28mself\u001b[39m, type_hint\u001b[38;5;241m=\u001b[39mtype_hint, attr\u001b[38;5;241m=\u001b[39mattr: \u001b[38;5;28;43mself\u001b[39;49m\u001b[38;5;241;43m.\u001b[39;49m\u001b[43m_template_property\u001b[49m\u001b[43m(\u001b[49m\u001b[43mtype_hint\u001b[49m\u001b[38;5;241;43m=\u001b[39;49m\u001b[43mtype_hint\u001b[49m\u001b[43m,\u001b[49m\u001b[43m \u001b[49m\u001b[43mattr\u001b[49m\u001b[38;5;241;43m=\u001b[39;49m\u001b[43mattr\u001b[49m\u001b[43m)\u001b[49m\n\u001b[1;32m    109\u001b[0m \u001b[38;5;66;03m# We do not allow to set any property after the creation of the instance: \u001b[39;00m\n\u001b[1;32m    110\u001b[0m \u001b[38;5;66;03m#===> WE CAN DEACTIVATE THE METHOD, using the `allow_no_calls_decorator`.\u001b[39;00m\n\u001b[1;32m    111\u001b[0m \u001b[38;5;66;03m# Here below, we leave it there for now, in case it is needed in the future.\u001b[39;00m\n\u001b[1;32m    112\u001b[0m \u001b[38;5;66;03m#func_set = lambda self, type_hint=type_hint, attr=attr: self._template_property(type_hint=type_hint, attr=attr)\u001b[39;00m\n\u001b[1;32m    113\u001b[0m func_set \u001b[38;5;241m=\u001b[39m \u001b[38;5;28;01mlambda\u001b[39;00m \u001b[38;5;28mself\u001b[39m, pname\u001b[38;5;241m=\u001b[39m\u001b[38;5;28;01mNone\u001b[39;00m, pvalue\u001b[38;5;241m=\u001b[39m\u001b[38;5;28;01mNone\u001b[39;00m: \u001b[38;5;28mself\u001b[39m\u001b[38;5;241m.\u001b[39m_set_property(pname, pvalue)\n",
      "File \u001b[0;32m~/Envs/aiida-muonic/codes/aiida-atomistic/src/aiida_atomistic/data/structure/properties/property_utils.py:124\u001b[0m, in \u001b[0;36mHasPropertyMixin._template_property\u001b[0;34m(self, type_hint, attr)\u001b[0m\n\u001b[1;32m    122\u001b[0m \u001b[38;5;28;01mdef\u001b[39;00m \u001b[38;5;21m_template_property\u001b[39m(\u001b[38;5;28mself\u001b[39m, type_hint, attr):\n\u001b[0;32m--> 124\u001b[0m     \u001b[38;5;28;01mreturn\u001b[39;00m \u001b[43mtype_hint\u001b[49m\u001b[43m(\u001b[49m\n\u001b[1;32m    125\u001b[0m \u001b[43m        \u001b[49m\u001b[43mparent\u001b[49m\u001b[38;5;241;43m=\u001b[39;49m\u001b[38;5;28;43mself\u001b[39;49m\u001b[38;5;241;43m.\u001b[39;49m\u001b[43m_parent\u001b[49m\u001b[43m,\u001b[49m\n\u001b[1;32m    126\u001b[0m \u001b[43m        \u001b[49m\u001b[38;5;241;43m*\u001b[39;49m\u001b[38;5;241;43m*\u001b[39;49m\u001b[38;5;28;43mself\u001b[39;49m\u001b[38;5;241;43m.\u001b[39;49m\u001b[43mget_property_attribute\u001b[49m\u001b[43m(\u001b[49m\u001b[43mattr\u001b[49m\u001b[43m)\u001b[49m\n\u001b[1;32m    127\u001b[0m \u001b[43m    \u001b[49m\u001b[43m)\u001b[49m\n\u001b[1;32m    128\u001b[0m \u001b[38;5;250m    \u001b[39m\u001b[38;5;124;03m'''except: \u001b[39;00m\n\u001b[1;32m    129\u001b[0m \u001b[38;5;124;03m        # In case we initialise to\u001b[39;00m\n\u001b[1;32m    130\u001b[0m \u001b[38;5;124;03m        return type_hint(\u001b[39;00m\n\u001b[1;32m    131\u001b[0m \u001b[38;5;124;03m            parent=self._parent,\u001b[39;00m\n\u001b[1;32m    132\u001b[0m \u001b[38;5;124;03m        )'''\u001b[39;00m\n",
      "File \u001b[0;32m~/Envs/aiida-muonic/lib/python3.10/site-packages/pydantic/main.py:341\u001b[0m, in \u001b[0;36mpydantic.main.BaseModel.__init__\u001b[0;34m()\u001b[0m\n",
      "\u001b[0;31mValidationError\u001b[0m: 1 validation error for Pbc\nvalue\n  ensure this value has at most 3 items (type=value_error.list.max_items; limit_value=3)"
     ]
    }
   ],
   "source": [
    "structure = StructureData(properties = properties)"
   ]
  },
  {
   "cell_type": "code",
   "execution_count": 27,
   "metadata": {},
   "outputs": [
    {
     "data": {
      "text/plain": [
       "['charge', 'positions', 'pbc', 'symbols', 'mass', 'cell']"
      ]
     },
     "execution_count": 27,
     "metadata": {},
     "output_type": "execute_result"
    }
   ],
   "source": [
    "structure.properties.get_stored_properties()"
   ]
  },
  {
   "cell_type": "code",
   "execution_count": 28,
   "metadata": {},
   "outputs": [
    {
     "data": {
      "text/plain": [
       "{'cell': {'value': [[1.0, 0, 0], [0, 1, 0], [0, 0, 1]]},\n",
       " 'pbc': {'value': [True, False, True]},\n",
       " 'positions': {'value': [[1, 1, 1], [2, 3, 3], [3, 4, 5], [1, 2, 3]]},\n",
       " 'symbols': {'value': ['He', 'Cu', 'He', 'He']},\n",
       " 'mass': {'value': [4.002602, 63.546, 4.002602, 4.002602]},\n",
       " 'charge': {'value': [1, 0, 1, 0]}}"
      ]
     },
     "execution_count": 28,
     "metadata": {},
     "output_type": "execute_result"
    }
   ],
   "source": [
    "structure.to_dict()"
   ]
  },
  {
   "cell_type": "code",
   "execution_count": 7,
   "metadata": {},
   "outputs": [
    {
     "data": {
      "text/plain": [
       "<StructureData: uuid: cc927a75-1b80-4294-bfd2-e360ffcff9f5 (pk: 13821)>"
      ]
     },
     "execution_count": 7,
     "metadata": {},
     "output_type": "execute_result"
    }
   ],
   "source": [
    "structure.store()"
   ]
  },
  {
   "cell_type": "code",
   "execution_count": 8,
   "metadata": {},
   "outputs": [],
   "source": [
    "s = orm.load_node(structure.pk)"
   ]
  },
  {
   "cell_type": "code",
   "execution_count": 9,
   "metadata": {},
   "outputs": [
    {
     "data": {
      "text/plain": [
       "Charge(parent=<StructureData: uuid: cc927a75-1b80-4294-bfd2-e360ffcff9f5 (pk: 13821)>, domain='intra-site', value=[1.0, 0.0, 1.0, 0.0], default_kind_threshold=0.1)"
      ]
     },
     "execution_count": 9,
     "metadata": {},
     "output_type": "execute_result"
    }
   ],
   "source": [
    "s.properties.charge"
   ]
  },
  {
   "cell_type": "code",
   "execution_count": 10,
   "metadata": {},
   "outputs": [],
   "source": [
    "s = orm.load_node(structure.pk)"
   ]
  },
  {
   "cell_type": "code",
   "execution_count": 11,
   "metadata": {},
   "outputs": [
    {
     "data": {
      "text/plain": [
       "{'pbc': {'value': [True, True, True]},\n",
       " 'cell': {'value': [[1.0, 0, 0], [0, 1, 0], [0, 0, 1]]},\n",
       " 'mass': {'value': [4.002602, 63.546, 4.002602, 4.002602]},\n",
       " 'charge': {'value': [1, 0, 1, 0]},\n",
       " 'symbols': {'value': ['He', 'Cu', 'He', 'He']},\n",
       " 'positions': {'value': [[1, 1, 1], [2, 3, 3], [3, 4, 5], [1, 2, 3]]}}"
      ]
     },
     "execution_count": 11,
     "metadata": {},
     "output_type": "execute_result"
    }
   ],
   "source": [
    "s.to_dict()"
   ]
  },
  {
   "cell_type": "code",
   "execution_count": 12,
   "metadata": {},
   "outputs": [],
   "source": [
    "#s.properties.positions"
   ]
  },
  {
   "cell_type": "code",
   "execution_count": 13,
   "metadata": {},
   "outputs": [
    {
     "data": {
      "text/plain": [
       "4"
      ]
     },
     "execution_count": 13,
     "metadata": {},
     "output_type": "execute_result"
    }
   ],
   "source": [
    "len(structure.properties.positions.value)"
   ]
  },
  {
   "cell_type": "code",
   "execution_count": 14,
   "metadata": {},
   "outputs": [
    {
     "data": {
      "text/plain": [
       "Symbols(parent=<StructureData: uuid: cc927a75-1b80-4294-bfd2-e360ffcff9f5 (pk: 13821)>, domain='intra-site', value=['He', 'Cu', 'He', 'He'])"
      ]
     },
     "execution_count": 14,
     "metadata": {},
     "output_type": "execute_result"
    }
   ],
   "source": [
    "structure.properties.symbols "
   ]
  },
  {
   "cell_type": "code",
   "execution_count": 15,
   "metadata": {},
   "outputs": [
    {
     "data": {
      "text/plain": [
       "{'pbc': {'value': [True, True, True]},\n",
       " 'cell': {'value': [[1.0, 0, 0], [0, 1, 0], [0, 0, 1]]},\n",
       " 'mass': {'value': [4.002602, 63.546, 4.002602, 4.002602]},\n",
       " 'charge': {'value': [1, 0, 1, 0]},\n",
       " 'symbols': {'value': ['He', 'Cu', 'He', 'He']},\n",
       " 'positions': {'value': [[1, 1, 1], [2, 3, 3], [3, 4, 5], [1, 2, 3]]}}"
      ]
     },
     "execution_count": 15,
     "metadata": {},
     "output_type": "execute_result"
    }
   ],
   "source": [
    "structure.base.attributes.get('_property_attributes')"
   ]
  },
  {
   "cell_type": "code",
   "execution_count": 16,
   "metadata": {},
   "outputs": [
    {
     "data": {
      "text/plain": [
       "{'pbc': {'value': [True, True, True]},\n",
       " 'cell': {'value': [[1.0, 0, 0], [0, 1, 0], [0, 0, 1]]},\n",
       " 'mass': {'value': [4.002602, 63.546, 4.002602, 4.002602]},\n",
       " 'charge': {'value': [1, 0, 1, 0]},\n",
       " 'symbols': {'value': ['He', 'Cu', 'He', 'He']},\n",
       " 'positions': {'value': [[1, 1, 1], [2, 3, 3], [3, 4, 5], [1, 2, 3]]}}"
      ]
     },
     "execution_count": 16,
     "metadata": {},
     "output_type": "execute_result"
    }
   ],
   "source": [
    "structure.to_dict()\n"
   ]
  },
  {
   "cell_type": "code",
   "execution_count": 17,
   "metadata": {},
   "outputs": [
    {
     "data": {
      "text/plain": [
       "[4.002602, 63.546, 4.002602, 4.002602]"
      ]
     },
     "execution_count": 17,
     "metadata": {},
     "output_type": "execute_result"
    }
   ],
   "source": [
    "structure.properties.mass.value"
   ]
  },
  {
   "cell_type": "code",
   "execution_count": 18,
   "metadata": {},
   "outputs": [
    {
     "data": {
      "text/plain": [
       "0.001"
      ]
     },
     "execution_count": 18,
     "metadata": {},
     "output_type": "execute_result"
    }
   ],
   "source": [
    "structure.properties.mass.default_kind_threshold"
   ]
  },
  {
   "cell_type": "code",
   "execution_count": 19,
   "metadata": {},
   "outputs": [
    {
     "data": {
      "text/plain": [
       "(array([0, 1, 0, 0]), array([ 4.002602, 63.546   ,  4.002602,  4.002602]))"
      ]
     },
     "execution_count": 19,
     "metadata": {},
     "output_type": "execute_result"
    }
   ],
   "source": [
    "# In principle this is used internally, not to be used externally... consider to make it \"private\".\n",
    "structure.properties.mass.to_kinds(thr = 0.1,)"
   ]
  },
  {
   "cell_type": "code",
   "execution_count": 20,
   "metadata": {},
   "outputs": [
    {
     "data": {
      "text/plain": [
       "(array([1, 0, 1, 0]), array([1., 0., 1., 0.]))"
      ]
     },
     "execution_count": 20,
     "metadata": {},
     "output_type": "execute_result"
    }
   ],
   "source": [
    "structure.properties.charge.to_kinds(thr = 0.1,)"
   ]
  },
  {
   "cell_type": "code",
   "execution_count": 21,
   "metadata": {},
   "outputs": [
    {
     "data": {
      "text/plain": [
       "(['He2', 'Cu1', 'He2', 'He3'],\n",
       " {'charge': [1.0, 0.0, 1.0, 0.0],\n",
       "  'mass': [4.002602, 63.546, 4.002602, 4.002602]})"
      ]
     },
     "execution_count": 21,
     "metadata": {},
     "output_type": "execute_result"
    }
   ],
   "source": [
    "# seems similar to the old `get_kind` method... consider to delete the older method.\n",
    "structure.get_kinds()"
   ]
  },
  {
   "cell_type": "code",
   "execution_count": 22,
   "metadata": {},
   "outputs": [
    {
     "data": {
      "text/plain": [
       "[4.002602, 63.546, 4.002602, 4.002602]"
      ]
     },
     "execution_count": 22,
     "metadata": {},
     "output_type": "execute_result"
    }
   ],
   "source": [
    "structure.properties.mass.value"
   ]
  },
  {
   "cell_type": "code",
   "execution_count": 23,
   "metadata": {},
   "outputs": [
    {
     "data": {
      "text/plain": [
       "[1.0, 0.0, 1.0, 0.0]"
      ]
     },
     "execution_count": 23,
     "metadata": {},
     "output_type": "execute_result"
    }
   ],
   "source": [
    "structure.properties.charge.value"
   ]
  },
  {
   "cell_type": "code",
   "execution_count": 24,
   "metadata": {},
   "outputs": [
    {
     "ename": "NameError",
     "evalue": "name 'get_kinds' is not defined",
     "output_type": "error",
     "traceback": [
      "\u001b[0;31m---------------------------------------------------------------------------\u001b[0m",
      "\u001b[0;31mNameError\u001b[0m                                 Traceback (most recent call last)",
      "Cell \u001b[0;32mIn[24], line 2\u001b[0m\n\u001b[1;32m      1\u001b[0m \u001b[38;5;66;03m# PROBLEM in to_kinds... midvalue...\u001b[39;00m\n\u001b[0;32m----> 2\u001b[0m \u001b[43mget_kinds\u001b[49m(structure, custom_thr\u001b[38;5;241m=\u001b[39m{\u001b[38;5;124m\"\u001b[39m\u001b[38;5;124mcharge\u001b[39m\u001b[38;5;124m\"\u001b[39m:\u001b[38;5;241m0.5\u001b[39m})\n",
      "\u001b[0;31mNameError\u001b[0m: name 'get_kinds' is not defined"
     ]
    }
   ],
   "source": [
    "# PROBLEM in to_kinds... midvalue...\n",
    "get_kinds(structure, custom_thr={\"charge\":0.5})"
   ]
  },
  {
   "cell_type": "markdown",
   "metadata": {},
   "source": [
    "overriding tags:"
   ]
  },
  {
   "cell_type": "code",
   "execution_count": null,
   "metadata": {},
   "outputs": [
    {
     "name": "stdout",
     "output_type": "stream",
     "text": [
      "He\n",
      "Cu\n",
      "He\n",
      "He\n"
     ]
    },
    {
     "data": {
      "text/plain": [
       "(['He0', 'He2', 'He6', 'He3'],\n",
       " {'mass': [1.551, 9.0, 1.551, 2.0], 'charge': [0.9, 0.0, 0.9, 0.0]})"
      ]
     },
     "execution_count": 35,
     "metadata": {},
     "output_type": "execute_result"
    }
   ],
   "source": [
    "get_kinds(structure,kind_tags=[\"He0\",\"He2\",None,None])"
   ]
  },
  {
   "cell_type": "code",
   "execution_count": null,
   "metadata": {},
   "outputs": [
    {
     "name": "stdout",
     "output_type": "stream",
     "text": [
      "He\n",
      "Cu\n",
      "He\n",
      "He\n"
     ]
    },
    {
     "data": {
      "text/plain": [
       "(['He2', 'Cu1', 'He2', 'He3'],\n",
       " {'mass': [1.551, 9.0, 1.551, 2.0], 'charge': [0.9, 0.0, 0.9, 0.0]})"
      ]
     },
     "execution_count": 36,
     "metadata": {},
     "output_type": "execute_result"
    }
   ],
   "source": [
    "get_kinds(structure)"
   ]
  },
  {
   "cell_type": "code",
   "execution_count": null,
   "metadata": {},
   "outputs": [],
   "source": []
  }
 ],
 "metadata": {
  "kernelspec": {
   "display_name": "aiida-muonic",
   "language": "python",
   "name": "python3"
  },
  "language_info": {
   "codemirror_mode": {
    "name": "ipython",
    "version": 3
   },
   "file_extension": ".py",
   "mimetype": "text/x-python",
   "name": "python",
   "nbconvert_exporter": "python",
   "pygments_lexer": "ipython3",
   "version": "3.10.11"
  }
 },
 "nbformat": 4,
 "nbformat_minor": 2
}
