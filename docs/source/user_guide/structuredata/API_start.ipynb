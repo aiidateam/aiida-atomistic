{
 "cells": [
  {
   "cell_type": "markdown",
   "metadata": {},
   "source": [
    "# <a id='toc1_'></a>[The StructureData object](#toc0_)"
   ]
  },
  {
   "cell_type": "markdown",
   "metadata": {},
   "source": [
    "**Table of contents**<a id='toc0_'></a>    \n",
    "- [The StructureData object](#toc1_)    \n",
    "  - [Initialization of a StructureData instance](#toc1_1_)    \n",
    "    - [How to define the properties](#toc1_1_1_)    \n",
    "    - [Inspect the supported and stored properties from the StructureData instance:](#toc1_1_2_)    \n",
    "      - [Missing: access the supported property from the class object](#toc1_1_2_1_)    \n",
    "    - [The immutability of the StructureData instance](#toc1_1_3_)    \n",
    "    - [How to get kinds](#toc1_1_4_)    \n",
    "\n",
    "<!-- vscode-jupyter-toc-config\n",
    "\tnumbering=false\n",
    "\tanchor=true\n",
    "\tflat=false\n",
    "\tminLevel=1\n",
    "\tmaxLevel=6\n",
    "\t/vscode-jupyter-toc-config -->\n",
    "<!-- THIS CELL WILL BE REPLACED ON TOC UPDATE. DO NOT WRITE YOUR TEXT IN THIS CELL -->"
   ]
  },
  {
   "cell_type": "markdown",
   "metadata": {},
   "source": [
    "Here we present the new `StructureData` class and we explain the basics on the API. \n",
    "This is an extended version of the `orm.StructureData` implemented in `aiida-core`.\n",
    "\n",
    "Each property of the system is now stored in the `properties` attribute. Among the supported properties, we have:\n",
    "\n",
    "- cell\n",
    "- periodic boundary conditions (PBC)\n",
    "- positions\n",
    "- symbols \n",
    "- masses\n",
    "- electronic charge\n",
    "- magnetization - TOBE added\n",
    "- Hubbard U and V parameters - TOBE added\n",
    "\n",
    "Some of these properties are related to the sites/atoms (e.g. atomic positions, symbols, electronic charge) and some are related to the whole structure (e.g. PBC, cell). So, each property will have an attribute `domain`, which can be \"intra-site\", \"inter-site\", \"global\". \n",
    "\n",
    "<div style=\"border:2px solid #f7d117; padding: 10px; margin: 10px 0;\">\n",
    "    <strong>Important:</strong> we deprecate the kind-based definition of the properties, now site-based. This simplifies multiple properties defintion and respect the philosophy of a code-agnostic representation of the structure. The kinds determination can be done using the built-in `get_kinds` method of the StructureData. It is also possible to provide a user-defined set of kinds, as you will see in the following section.\n",
    "</div>\n",
    "\n",
    "The possibility to have user defined custom properties is discussed in another section (TOBE ADDED).\n",
    "\n",
    "To explore the available properties in detail, please go to the corresponding pages (TOBE ADDED)."
   ]
  },
  {
   "cell_type": "code",
   "execution_count": 16,
   "metadata": {},
   "outputs": [
    {
     "data": {
      "text/plain": [
       "Profile<uuid='827a33dde1bc4d498af8e022f9e9dece' name='mikibonacci'>"
      ]
     },
     "execution_count": 16,
     "metadata": {},
     "output_type": "execute_result"
    }
   ],
   "source": [
    "from aiida import orm, load_profile\n",
    "load_profile()"
   ]
  },
  {
   "cell_type": "markdown",
   "metadata": {},
   "source": [
    "## <a id='toc1_1_'></a>[Initialization of a StructureData instance](#toc0_)\n",
    "One of the principle of the new StructureData is the fact that it is \"just\" a container of the information about a given structure: this means that, after that instances of this class are immutable. After the initialization, it is not possible to change the stored properties.\n",
    "\n",
    "### <a id='toc1_1_1_'></a>[How to define the properties](#toc0_)\n",
    "Properties should be contained in a dictionary, where the keys are the names of the properties, and the values are dictionaries of this type:\n",
    "\n",
    "```python\n",
    "{\n",
    "    \"value\":value_of_the_property,\n",
    "    ... #other possible attributes of the property \n",
    "}\n",
    "```\n",
    "\n",
    "for example, we can provide the `positions` property by means of the following dictionary:\n",
    "```python\n",
    "{\n",
    "    \"value\":[[1,1,1],[2,3,3],[3,4,5],[1,2,3]],\n",
    "    \"kind_tags\":[\"H1\",\"H2\",\"H3\",\"H4\"],\n",
    "}\n",
    "```\n",
    "\n",
    "where the `kind_tags` key provides user-defined set of kinds. This key is optional, as the kinds can (should) be determined at the plugin level.\n",
    "\n",
    "Here below, an example in which we define a structure together with the mass and charge properties:"
   ]
  },
  {
   "cell_type": "code",
   "execution_count": 17,
   "metadata": {},
   "outputs": [],
   "source": [
    "properties = {\n",
    "    \"cell\":{\"value\":[[3.5, 0.0, 0.0], [0.0, 3.5, 0.0], [0.0, 0.0, 3.5]]},\n",
    "    \n",
    "    \"pbc\":{\"value\":[True,True,True]},\n",
    "    \n",
    "    \"positions\":{\"value\":[[0.0, 0.0, 0.0],[1.5, 1.5, 1.5]],},\n",
    "    \n",
    "    \"symbols\":{\"value\":[\"Li\", \"Li\"]},\n",
    "    \n",
    "    \"mass\":{\"value\":[6.941,6.945],},\n",
    "    \n",
    "    \"charge\":{\"value\":[1,0]}\n",
    "    }"
   ]
  },
  {
   "cell_type": "code",
   "execution_count": 18,
   "metadata": {},
   "outputs": [],
   "source": [
    "from aiida_atomistic.data.structure.structure import StructureData\n",
    "\n",
    "structure = StructureData(properties = properties)"
   ]
  },
  {
   "cell_type": "markdown",
   "metadata": {},
   "source": [
    "We can inspect the properties by accessing the corresponding attribute (tab completion is enabled):"
   ]
  },
  {
   "cell_type": "code",
   "execution_count": 19,
   "metadata": {},
   "outputs": [
    {
     "data": {
      "text/plain": [
       "Mass(parent=<StructureData: uuid: 72047b25-c462-4737-b06a-e4274afbc105 (unstored)>, value=[6.941, 6.945], domain='intra-site', default_kind_threshold=0.001)"
      ]
     },
     "execution_count": 19,
     "metadata": {},
     "output_type": "execute_result"
    }
   ],
   "source": [
    "structure.properties.mass"
   ]
  },
  {
   "cell_type": "code",
   "execution_count": 20,
   "metadata": {},
   "outputs": [
    {
     "data": {
      "text/plain": [
       "[6.941, 6.945]"
      ]
     },
     "execution_count": 20,
     "metadata": {},
     "output_type": "execute_result"
    }
   ],
   "source": [
    "structure.properties.mass.value"
   ]
  },
  {
   "cell_type": "code",
   "execution_count": 21,
   "metadata": {},
   "outputs": [
    {
     "data": {
      "text/plain": [
       "'intra-site'"
      ]
     },
     "execution_count": 21,
     "metadata": {},
     "output_type": "execute_result"
    }
   ],
   "source": [
    "structure.properties.mass.domain"
   ]
  },
  {
   "cell_type": "markdown",
   "metadata": {},
   "source": [
    "Additionally, we can access the property using the `get_property_attribute` method:"
   ]
  },
  {
   "cell_type": "code",
   "execution_count": 22,
   "metadata": {},
   "outputs": [
    {
     "data": {
      "text/plain": [
       "{'value': [6.941, 6.945]}"
      ]
     },
     "execution_count": 22,
     "metadata": {},
     "output_type": "execute_result"
    }
   ],
   "source": [
    "structure.properties.get_property_attribute(\"mass\")"
   ]
  },
  {
   "cell_type": "markdown",
   "metadata": {},
   "source": [
    "### <a id='toc1_1_2_'></a>[Inspect the supported and stored properties from the StructureData instance:](#toc0_)"
   ]
  },
  {
   "cell_type": "code",
   "execution_count": 23,
   "metadata": {},
   "outputs": [
    {
     "data": {
      "text/plain": [
       "['pbc', 'mass', 'custom', 'cell', 'symbols', 'charge', 'positions']"
      ]
     },
     "execution_count": 23,
     "metadata": {},
     "output_type": "execute_result"
    }
   ],
   "source": [
    "structure.properties.get_supported_properties()"
   ]
  },
  {
   "cell_type": "code",
   "execution_count": 24,
   "metadata": {},
   "outputs": [
    {
     "data": {
      "text/plain": [
       "['mass', 'cell', 'pbc', 'symbols', 'charge', 'positions']"
      ]
     },
     "execution_count": 24,
     "metadata": {},
     "output_type": "execute_result"
    }
   ],
   "source": [
    "structure.properties.get_stored_properties()"
   ]
  },
  {
   "cell_type": "markdown",
   "metadata": {},
   "source": [
    "#### <a id='toc1_1_2_1_'></a>[Missing: access the supported property from the class object](#toc0_)\n",
    "\n",
    "```python\n",
    "In [1]: StructureData.get_supported_properties()\n",
    "Out [2]: ['custom', 'pbc', 'symbols', 'charge', 'positions', 'mass', 'cell']\n",
    "```"
   ]
  },
  {
   "cell_type": "markdown",
   "metadata": {},
   "source": [
    "### <a id='toc1_1_3_'></a>[The immutability of the StructureData instance](#toc0_)"
   ]
  },
  {
   "cell_type": "markdown",
   "metadata": {},
   "source": [
    "A crucial aspect of the new `StructureData` is that it is immutable even if the node is not stored, i.e. the API does not support on-the-fly or interactive modifications (it will raise errors). This helps in avoiding unexpected \n",
    "behaviour coming from a step-by-step defintion of the structure, e.g. incosistencies between properties definitions, which are then not cross-checked again.\n",
    "\n",
    "One has to define a new `StructureData` instance by scratch.\n",
    "To make user life simpler, we provide a `to_dict` method, which can be used to generate the properties dictionary. This can be updated and used for a new StructureData instance:"
   ]
  },
  {
   "cell_type": "code",
   "execution_count": 25,
   "metadata": {},
   "outputs": [
    {
     "data": {
      "text/plain": [
       "{'cell': {'value': [[3.5, 0.0, 0.0], [0.0, 3.5, 0.0], [0.0, 0.0, 3.5]]},\n",
       " 'pbc': {'value': [True, True, True]},\n",
       " 'positions': {'value': [[0.0, 0.0, 0.0], [1.5, 1.5, 1.5]]},\n",
       " 'symbols': {'value': ['Li', 'Li']},\n",
       " 'mass': {'value': [6.941, 6.945]},\n",
       " 'charge': {'value': [1, 0]}}"
      ]
     },
     "execution_count": 25,
     "metadata": {},
     "output_type": "execute_result"
    }
   ],
   "source": [
    "new_properties = structure.to_dict()\n",
    "new_properties"
   ]
  },
  {
   "cell_type": "code",
   "execution_count": 26,
   "metadata": {},
   "outputs": [],
   "source": [
    "new_properties[\"mass\"][\"value\"] = [6.941,6.941]"
   ]
  },
  {
   "cell_type": "code",
   "execution_count": 27,
   "metadata": {},
   "outputs": [],
   "source": [
    "new_structure = StructureData(properties=new_properties)"
   ]
  },
  {
   "cell_type": "code",
   "execution_count": 28,
   "metadata": {},
   "outputs": [
    {
     "data": {
      "text/plain": [
       "[6.941, 6.941]"
      ]
     },
     "execution_count": 28,
     "metadata": {},
     "output_type": "execute_result"
    }
   ],
   "source": [
    "new_structure.properties.mass.value"
   ]
  },
  {
   "cell_type": "markdown",
   "metadata": {},
   "source": [
    "### <a id='toc1_1_4_'></a>[How to get kinds](#toc0_)\n",
    "\n",
    "It is possible to get a list of kinds using the `get_kinds` method. This will generate the corresponding predicted kinds for all the properties (the \"intra-site\" ones) and then generate the list of global different kinds. \n"
   ]
  },
  {
   "cell_type": "code",
   "execution_count": 29,
   "metadata": {},
   "outputs": [
    {
     "name": "stdout",
     "output_type": "stream",
     "text": [
      "Li\n",
      "Li\n"
     ]
    },
    {
     "data": {
      "text/plain": [
       "([0, 1],\n",
       " ['Li0', 'Li1'],\n",
       " {'mass': [6.9415, 6.945500000000001], 'charge': [1.1250000000000002, 0.225]})"
      ]
     },
     "execution_count": 29,
     "metadata": {},
     "output_type": "execute_result"
    }
   ],
   "source": [
    "structure.get_kinds()"
   ]
  },
  {
   "cell_type": "markdown",
   "metadata": {},
   "source": [
    "As you can see, basically the value of a property is not the starting value choosen, and this is a PROBLEM: we have TOFIX this, especially in case in which the value is zero. \n",
    "The issue is that we are using a middle-point representative value.\n",
    "\n",
    "Kinds are determined using, for each property, a given threshold. There is a default threshold:"
   ]
  },
  {
   "cell_type": "code",
   "execution_count": 30,
   "metadata": {},
   "outputs": [
    {
     "data": {
      "text/plain": [
       "0.001"
      ]
     },
     "execution_count": 30,
     "metadata": {},
     "output_type": "execute_result"
    }
   ],
   "source": [
    "structure.properties.mass.default_kind_threshold"
   ]
  },
  {
   "cell_type": "markdown",
   "metadata": {},
   "source": [
    "Basically, it will be possible to override the threshold to be used for each property (TOBE implemented):\n",
    "\n",
    "```python\n",
    "structure.get_kinds(thr={\"mass\":0.1})\n",
    "```"
   ]
  },
  {
   "cell_type": "markdown",
   "metadata": {},
   "source": []
  }
 ],
 "metadata": {
  "kernelspec": {
   "display_name": "aiida-muonic",
   "language": "python",
   "name": "python3"
  },
  "language_info": {
   "codemirror_mode": {
    "name": "ipython",
    "version": 3
   },
   "file_extension": ".py",
   "mimetype": "text/x-python",
   "name": "python",
   "nbconvert_exporter": "python",
   "pygments_lexer": "ipython3",
   "version": "3.10.11"
  }
 },
 "nbformat": 4,
 "nbformat_minor": 2
}
