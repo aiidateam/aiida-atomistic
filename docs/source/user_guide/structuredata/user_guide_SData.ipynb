{
 "cells": [
  {
   "cell_type": "markdown",
   "metadata": {},
   "source": [
    "# User guide on the StructureData class\n",
    "\n",
    "The atomistic `StructureData` class is basically an enhanced version of the `orm.StructureData`, which was implemented in `aiida-core`. \n",
    "Relevante changes, which  are:\n",
    "- `properties` attribute, used to store all the properties associated the the crystal structure;\n",
    "- the kind-based definition of the structure is *no more supported*, in favour of a code-agnostic site-based definition of the properties;\n",
    "- the StructureData node is now really a *data container*, meaning that we do not have methods to modify it after its creation, i.e. it is *immutable* even before the store of the node; \n",
    "\n",
    "<div style=\"border:2px solid #f7d117; padding: 10px; margin: 10px 0;\">\n",
    "    <strong>Why we support only site-based definition of properties:</strong> This simplifies multiple properties defintion and respect the philosophy of a code-agnostic representation of the structure. The kinds determination can be done using the built-in `get_kinds()` method of the StructureData. It is also possible to provide a user-defined set of kinds via *tags*.\n",
    "</div>\n",
    "\n",
    "<div style=\"border:2px solid #f7d117; padding: 10px; margin: 10px 0;\">\n",
    "    <strong>Backward compatibility:</strong> .\n",
    "</div>\n",
    "\n",
    "## Properties\n",
    "Properties as divided in three main domains:  *global*, *intra-site*, and *inter-site*. \n",
    "Examples are:\n",
    "\n",
    "global:\n",
    "  - cell\n",
    "  - periodic boundary conditions (PBC)\n",
    "\n",
    "intra-site:\n",
    "  - positions\n",
    "  - symbols \n",
    "  - masses\n",
    "  - electronic charge\n",
    "  - magnetization - TOBE added\n",
    "  - Hubbard U parameters - TOBE added\n",
    "\n",
    "inter-site:\n",
    "  - Hubbard V parameters - TOBE added \n",
    "\n",
    "Some of these properties are related to the sites/atoms (e.g. atomic positions, symbols, electronic charge) and some are related to the whole structure (e.g. PBC, cell). So, each property will have an attribute `domain`, which can be \"intra-site\", \"inter-site\", \"global\". \n",
    "\n",
    "## Custom properties\n",
    "The possibility to have user defined custom properties is discussed in another section (TOBE ADDED).\n",
    "\n",
    "## Available properties\n",
    "To explore the available properties in detail, please go to the corresponding pages (TOBE ADDED)."
   ]
  },
  {
   "cell_type": "code",
   "execution_count": 15,
   "metadata": {},
   "outputs": [],
   "source": [
    "from aiida import orm, load_profile\n",
    "load_profile()\n",
    "\n",
    "from aiida_atomistic.data.structure import StructureData"
   ]
  },
  {
   "cell_type": "markdown",
   "metadata": {},
   "source": [
    "## The first StructureData instance\n",
    "One of the principle of the new StructureData is the fact that it is \"just\" a container of the information about a given structure: this means that, after that instances of this class are immutable. After the initialization, it is not possible to change the stored properties.\n",
    "\n",
    "Properties should be contained in a dictionary:"
   ]
  },
  {
   "cell_type": "code",
   "execution_count": 28,
   "metadata": {},
   "outputs": [],
   "source": [
    "properties_dict = {\n",
    "    \"cell\":{\"value\":[[3.5, 0.0, 0.0], [0.0, 3.5, 0.0], [0.0, 0.0, 3.5]]},\n",
    "    \"positions\":{\"value\":[[0.0, 0.0, 0.0],[1.5, 1.5, 1.5]],},\n",
    "    \"symbols\":{\"value\":[\"Li\",\"Li\"]},\n",
    "    }"
   ]
  },
  {
   "cell_type": "markdown",
   "metadata": {},
   "source": [
    "where the value of each defined property is defined under the corresponding dictionary, as value of the key `value`. \n"
   ]
  },
  {
   "cell_type": "code",
   "execution_count": 41,
   "metadata": {},
   "outputs": [
    {
     "name": "stdout",
     "output_type": "stream",
     "text": [
      "The whole list of currently supported properties is: \n",
      "['cell', 'pbc', 'custom', 'mass', 'positions', 'charge', 'symbols']\n"
     ]
    }
   ],
   "source": [
    "print(f\"The whole list of currently supported properties is: \\n{StructureData().properties.get_supported_properties()}\")"
   ]
  },
  {
   "cell_type": "markdown",
   "metadata": {},
   "source": [
    "To initialise a StructureData node is then sufficient to do:"
   ]
  },
  {
   "cell_type": "code",
   "execution_count": 47,
   "metadata": {},
   "outputs": [
    {
     "data": {
      "text/plain": [
       "<StructureData: uuid: 13af7274-5a68-4f82-8dd3-32a5b616ae0f (unstored)>"
      ]
     },
     "execution_count": 47,
     "metadata": {},
     "output_type": "execute_result"
    }
   ],
   "source": [
    "structure = StructureData(properties = properties_dict)\n",
    "structure"
   ]
  },
  {
   "cell_type": "markdown",
   "metadata": {},
   "source": [
    "we can inspect the properties by accessing the corresponding attribute (tab completion is enabled):"
   ]
  },
  {
   "cell_type": "code",
   "execution_count": 48,
   "metadata": {},
   "outputs": [
    {
     "name": "stdout",
     "output_type": "stream",
     "text": [
      "The cell property class: \n",
      "parent=<StructureData: uuid: 13af7274-5a68-4f82-8dd3-32a5b616ae0f (unstored)> value=[[3.5, 0.0, 0.0], [0.0, 3.5, 0.0], [0.0, 0.0, 3.5]] domain='global'\n",
      "\n",
      "The cell property value: \n",
      "[[3.5, 0.0, 0.0], [0.0, 3.5, 0.0], [0.0, 0.0, 3.5]]\n",
      "\n",
      "The cell property domain: \n",
      "global\n",
      "\n"
     ]
    }
   ],
   "source": [
    "print(f\"The cell property class: \\n{structure.properties.cell}\\n\")\n",
    "print(f\"The cell property value: \\n{structure.properties.cell.value}\\n\")\n",
    "print(f\"The cell property domain: \\n{structure.properties.cell.domain}\\n\")"
   ]
  },
  {
   "cell_type": "code",
   "execution_count": 49,
   "metadata": {},
   "outputs": [
    {
     "name": "stdout",
     "output_type": "stream",
     "text": [
      "The positions property class: \n",
      "parent=<StructureData: uuid: 13af7274-5a68-4f82-8dd3-32a5b616ae0f (unstored)> domain='intra-site' value=[[0.0, 0.0, 0.0], [1.5, 1.5, 1.5]] kind_tags=None\n",
      "\n",
      "The positions property value: \n",
      "[[0.0, 0.0, 0.0], [1.5, 1.5, 1.5]]\n",
      "\n",
      "The positions property domain: \n",
      "intra-site\n",
      "\n"
     ]
    }
   ],
   "source": [
    "print(f\"The positions property class: \\n{structure.properties.positions}\\n\")\n",
    "print(f\"The positions property value: \\n{structure.properties.positions.value}\\n\")\n",
    "print(f\"The positions property domain: \\n{structure.properties.positions.domain}\\n\")"
   ]
  },
  {
   "cell_type": "code",
   "execution_count": 50,
   "metadata": {},
   "outputs": [
    {
     "name": "stdout",
     "output_type": "stream",
     "text": [
      "Stored properties are: \n",
      "['cell', 'positions', 'symbols']\n"
     ]
    }
   ],
   "source": [
    "print(f\"Stored properties are: \\n{structure.properties.get_stored_properties()}\")"
   ]
  },
  {
   "cell_type": "markdown",
   "metadata": {},
   "source": [
    "# HERE"
   ]
  },
  {
   "cell_type": "markdown",
   "metadata": {},
   "source": [
    "Additionally, we can access the property using the `get_property_attribute` method:"
   ]
  },
  {
   "cell_type": "code",
   "execution_count": 51,
   "metadata": {},
   "outputs": [
    {
     "ename": "KeyError",
     "evalue": "'mass'",
     "output_type": "error",
     "traceback": [
      "\u001b[0;31m---------------------------------------------------------------------------\u001b[0m",
      "\u001b[0;31mKeyError\u001b[0m                                  Traceback (most recent call last)",
      "Cell \u001b[0;32mIn[51], line 1\u001b[0m\n\u001b[0;32m----> 1\u001b[0m \u001b[43mstructure\u001b[49m\u001b[38;5;241;43m.\u001b[39;49m\u001b[43mproperties\u001b[49m\u001b[38;5;241;43m.\u001b[39;49m\u001b[43mget_property_attribute\u001b[49m\u001b[43m(\u001b[49m\u001b[38;5;124;43m\"\u001b[39;49m\u001b[38;5;124;43mmass\u001b[39;49m\u001b[38;5;124;43m\"\u001b[39;49m\u001b[43m)\u001b[49m\n",
      "File \u001b[0;32m~/Envs/aiida-muonic/codes/aiida-atomistic/src/aiida_atomistic/data/structure/properties/__init__.py:81\u001b[0m, in \u001b[0;36mPropertyCollector.get_property_attribute\u001b[0;34m(self, key)\u001b[0m\n\u001b[1;32m     79\u001b[0m \u001b[38;5;28;01mdef\u001b[39;00m \u001b[38;5;21mget_property_attribute\u001b[39m(\u001b[38;5;28mself\u001b[39m, key):\n\u001b[1;32m     80\u001b[0m     \u001b[38;5;66;03m# In AiiDA this could be self.base.attrs['properties'][key] or similar\u001b[39;00m\n\u001b[0;32m---> 81\u001b[0m     \u001b[38;5;28;01mreturn\u001b[39;00m \u001b[38;5;28;43mself\u001b[39;49m\u001b[38;5;241;43m.\u001b[39;49m\u001b[43m_property_attributes\u001b[49m\u001b[43m[\u001b[49m\u001b[43mkey\u001b[49m\u001b[43m]\u001b[49m\n",
      "\u001b[0;31mKeyError\u001b[0m: 'mass'"
     ]
    }
   ],
   "source": [
    "structure.properties.get_property_attribute(\"mass\")"
   ]
  },
  {
   "cell_type": "markdown",
   "metadata": {},
   "source": [
    "### <a id='toc1_1_2_'></a>[Inspect the supported and stored properties from the StructureData instance:](#toc0_)"
   ]
  },
  {
   "cell_type": "code",
   "execution_count": 23,
   "metadata": {},
   "outputs": [
    {
     "data": {
      "text/plain": [
       "['pbc', 'mass', 'custom', 'cell', 'symbols', 'charge', 'positions']"
      ]
     },
     "execution_count": 23,
     "metadata": {},
     "output_type": "execute_result"
    }
   ],
   "source": [
    "structure.properties.get_supported_properties()"
   ]
  },
  {
   "cell_type": "code",
   "execution_count": 24,
   "metadata": {},
   "outputs": [
    {
     "data": {
      "text/plain": [
       "['mass', 'cell', 'pbc', 'symbols', 'charge', 'positions']"
      ]
     },
     "execution_count": 24,
     "metadata": {},
     "output_type": "execute_result"
    }
   ],
   "source": [
    "structure.properties.get_stored_properties()"
   ]
  },
  {
   "cell_type": "markdown",
   "metadata": {},
   "source": [
    "#### <a id='toc1_1_2_1_'></a>[Missing: access the supported property from the class object](#toc0_)\n",
    "\n",
    "```python\n",
    "In [1]: StructureData.get_supported_properties()\n",
    "Out [2]: ['custom', 'pbc', 'symbols', 'charge', 'positions', 'mass', 'cell']\n",
    "```"
   ]
  },
  {
   "cell_type": "markdown",
   "metadata": {},
   "source": [
    "### <a id='toc1_1_3_'></a>[The immutability of the StructureData instance](#toc0_)"
   ]
  },
  {
   "cell_type": "markdown",
   "metadata": {},
   "source": [
    "A crucial aspect of the new `StructureData` is that it is immutable even if the node is not stored, i.e. the API does not support on-the-fly or interactive modifications (it will raise errors). This helps in avoiding unexpected \n",
    "behaviour coming from a step-by-step defintion of the structure, e.g. incosistencies between properties definitions, which are then not cross-checked again.\n",
    "\n",
    "One has to define a new `StructureData` instance by scratch.\n",
    "To make user life simpler, we provide a `to_dict` method, which can be used to generate the properties dictionary. This can be updated and used for a new StructureData instance:"
   ]
  },
  {
   "cell_type": "code",
   "execution_count": 25,
   "metadata": {},
   "outputs": [
    {
     "data": {
      "text/plain": [
       "{'cell': {'value': [[3.5, 0.0, 0.0], [0.0, 3.5, 0.0], [0.0, 0.0, 3.5]]},\n",
       " 'pbc': {'value': [True, True, True]},\n",
       " 'positions': {'value': [[0.0, 0.0, 0.0], [1.5, 1.5, 1.5]]},\n",
       " 'symbols': {'value': ['Li', 'Li']},\n",
       " 'mass': {'value': [6.941, 6.945]},\n",
       " 'charge': {'value': [1, 0]}}"
      ]
     },
     "execution_count": 25,
     "metadata": {},
     "output_type": "execute_result"
    }
   ],
   "source": [
    "new_properties = structure.to_dict()\n",
    "new_properties"
   ]
  },
  {
   "cell_type": "code",
   "execution_count": 26,
   "metadata": {},
   "outputs": [],
   "source": [
    "new_properties[\"mass\"][\"value\"] = [6.941,6.941]"
   ]
  },
  {
   "cell_type": "code",
   "execution_count": 27,
   "metadata": {},
   "outputs": [],
   "source": [
    "new_structure = StructureData(properties=new_properties)"
   ]
  },
  {
   "cell_type": "code",
   "execution_count": 28,
   "metadata": {},
   "outputs": [
    {
     "data": {
      "text/plain": [
       "[6.941, 6.941]"
      ]
     },
     "execution_count": 28,
     "metadata": {},
     "output_type": "execute_result"
    }
   ],
   "source": [
    "new_structure.properties.mass.value"
   ]
  },
  {
   "cell_type": "markdown",
   "metadata": {},
   "source": [
    "### <a id='toc1_1_4_'></a>[How to get kinds](#toc0_)\n",
    "\n",
    "It is possible to get a list of kinds using the `get_kinds` method. This will generate the corresponding predicted kinds for all the properties (the \"intra-site\" ones) and then generate the list of global different kinds. \n"
   ]
  },
  {
   "cell_type": "code",
   "execution_count": 29,
   "metadata": {},
   "outputs": [
    {
     "name": "stdout",
     "output_type": "stream",
     "text": [
      "Li\n",
      "Li\n"
     ]
    },
    {
     "data": {
      "text/plain": [
       "([0, 1],\n",
       " ['Li0', 'Li1'],\n",
       " {'mass': [6.9415, 6.945500000000001], 'charge': [1.1250000000000002, 0.225]})"
      ]
     },
     "execution_count": 29,
     "metadata": {},
     "output_type": "execute_result"
    }
   ],
   "source": [
    "structure.get_kinds()"
   ]
  },
  {
   "cell_type": "markdown",
   "metadata": {},
   "source": [
    "As you can see, basically the value of a property is not the starting value choosen, and this is a PROBLEM: we have TOFIX this, especially in case in which the value is zero. \n",
    "The issue is that we are using a middle-point representative value.\n",
    "\n",
    "Kinds are determined using, for each property, a given threshold. There is a default threshold:"
   ]
  },
  {
   "cell_type": "code",
   "execution_count": 31,
   "metadata": {},
   "outputs": [
    {
     "data": {
      "text/plain": [
       "0.001"
      ]
     },
     "execution_count": 31,
     "metadata": {},
     "output_type": "execute_result"
    }
   ],
   "source": [
    "structure.properties.mass.default_kind_threshold"
   ]
  },
  {
   "cell_type": "markdown",
   "metadata": {},
   "source": [
    "Basically, it will be possible to override the threshold to be used for each property (TOBE implemented):\n",
    "\n",
    "```python\n",
    "structure.get_kinds(thr={\"mass\":0.1})\n",
    "```"
   ]
  },
  {
   "cell_type": "markdown",
   "metadata": {},
   "source": [
    "#### User defined kinds\n",
    "\n",
    "it is possible to define kinds by hands, when the StructureData instance is generated.\n",
    "\n",
    "```python\n",
    "properties = {\n",
    "    ...\n",
    "    \"positions\":{\n",
    "        \"value\":[...],\n",
    "        \"kind_tags\":[\"Li0\",\"Li0\"],\n",
    "    }\n",
    "    ...\n",
    "}\n",
    "```\n",
    "So that a given plugin will use the given tags, if checks that `structure.properties.positions.kind_tags`exists."
   ]
  },
  {
   "cell_type": "markdown",
   "metadata": {},
   "source": [
    "\""
   ]
  }
 ],
 "metadata": {
  "kernelspec": {
   "display_name": "aiida-muonic",
   "language": "python",
   "name": "python3"
  },
  "language_info": {
   "codemirror_mode": {
    "name": "ipython",
    "version": 3
   },
   "file_extension": ".py",
   "mimetype": "text/x-python",
   "name": "python",
   "nbconvert_exporter": "python",
   "pygments_lexer": "ipython3",
   "version": "3.10.11"
  }
 },
 "nbformat": 4,
 "nbformat_minor": 2
}
